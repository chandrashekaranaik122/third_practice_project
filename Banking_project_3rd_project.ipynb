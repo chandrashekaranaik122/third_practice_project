{
 "cells": [
  {
   "cell_type": "markdown",
   "id": "ee18e8ee",
   "metadata": {},
   "source": [
    "# Bank dataset prediction "
   ]
  },
  {
   "cell_type": "code",
   "execution_count": 1,
   "id": "6c9af169",
   "metadata": {},
   "outputs": [],
   "source": [
    "import pandas as pd\n",
    "import numpy as np\n",
    "import seaborn as sns\n",
    "import matplotlib.pyplot as plt\n",
    "import warnings\n",
    "warnings.filterwarnings('ignore')"
   ]
  },
  {
   "cell_type": "markdown",
   "id": "88be30e8",
   "metadata": {},
   "source": [
    "importing all the nessasary lybraries for the dataset"
   ]
  },
  {
   "cell_type": "code",
   "execution_count": 2,
   "id": "0392cc25",
   "metadata": {},
   "outputs": [
    {
     "data": {
      "text/html": [
       "<div>\n",
       "<style scoped>\n",
       "    .dataframe tbody tr th:only-of-type {\n",
       "        vertical-align: middle;\n",
       "    }\n",
       "\n",
       "    .dataframe tbody tr th {\n",
       "        vertical-align: top;\n",
       "    }\n",
       "\n",
       "    .dataframe thead th {\n",
       "        text-align: right;\n",
       "    }\n",
       "</style>\n",
       "<table border=\"1\" class=\"dataframe\">\n",
       "  <thead>\n",
       "    <tr style=\"text-align: right;\">\n",
       "      <th></th>\n",
       "      <th>ID</th>\n",
       "      <th>age</th>\n",
       "      <th>job</th>\n",
       "      <th>marital</th>\n",
       "      <th>education</th>\n",
       "      <th>default</th>\n",
       "      <th>balance</th>\n",
       "      <th>housing</th>\n",
       "      <th>loan</th>\n",
       "      <th>contact</th>\n",
       "      <th>day</th>\n",
       "      <th>month</th>\n",
       "      <th>duration</th>\n",
       "      <th>campaign</th>\n",
       "      <th>pdays</th>\n",
       "      <th>previous</th>\n",
       "      <th>poutcome</th>\n",
       "      <th>subscribed</th>\n",
       "    </tr>\n",
       "  </thead>\n",
       "  <tbody>\n",
       "    <tr>\n",
       "      <th>0</th>\n",
       "      <td>26110</td>\n",
       "      <td>56</td>\n",
       "      <td>admin.</td>\n",
       "      <td>married</td>\n",
       "      <td>unknown</td>\n",
       "      <td>no</td>\n",
       "      <td>1933</td>\n",
       "      <td>no</td>\n",
       "      <td>no</td>\n",
       "      <td>telephone</td>\n",
       "      <td>19</td>\n",
       "      <td>nov</td>\n",
       "      <td>44</td>\n",
       "      <td>2</td>\n",
       "      <td>-1</td>\n",
       "      <td>0</td>\n",
       "      <td>unknown</td>\n",
       "      <td>no</td>\n",
       "    </tr>\n",
       "    <tr>\n",
       "      <th>1</th>\n",
       "      <td>40576</td>\n",
       "      <td>31</td>\n",
       "      <td>unknown</td>\n",
       "      <td>married</td>\n",
       "      <td>secondary</td>\n",
       "      <td>no</td>\n",
       "      <td>3</td>\n",
       "      <td>no</td>\n",
       "      <td>no</td>\n",
       "      <td>cellular</td>\n",
       "      <td>20</td>\n",
       "      <td>jul</td>\n",
       "      <td>91</td>\n",
       "      <td>2</td>\n",
       "      <td>-1</td>\n",
       "      <td>0</td>\n",
       "      <td>unknown</td>\n",
       "      <td>no</td>\n",
       "    </tr>\n",
       "    <tr>\n",
       "      <th>2</th>\n",
       "      <td>15320</td>\n",
       "      <td>27</td>\n",
       "      <td>services</td>\n",
       "      <td>married</td>\n",
       "      <td>secondary</td>\n",
       "      <td>no</td>\n",
       "      <td>891</td>\n",
       "      <td>yes</td>\n",
       "      <td>no</td>\n",
       "      <td>cellular</td>\n",
       "      <td>18</td>\n",
       "      <td>jul</td>\n",
       "      <td>240</td>\n",
       "      <td>1</td>\n",
       "      <td>-1</td>\n",
       "      <td>0</td>\n",
       "      <td>unknown</td>\n",
       "      <td>no</td>\n",
       "    </tr>\n",
       "    <tr>\n",
       "      <th>3</th>\n",
       "      <td>43962</td>\n",
       "      <td>57</td>\n",
       "      <td>management</td>\n",
       "      <td>divorced</td>\n",
       "      <td>tertiary</td>\n",
       "      <td>no</td>\n",
       "      <td>3287</td>\n",
       "      <td>no</td>\n",
       "      <td>no</td>\n",
       "      <td>cellular</td>\n",
       "      <td>22</td>\n",
       "      <td>jun</td>\n",
       "      <td>867</td>\n",
       "      <td>1</td>\n",
       "      <td>84</td>\n",
       "      <td>3</td>\n",
       "      <td>success</td>\n",
       "      <td>yes</td>\n",
       "    </tr>\n",
       "    <tr>\n",
       "      <th>4</th>\n",
       "      <td>29842</td>\n",
       "      <td>31</td>\n",
       "      <td>technician</td>\n",
       "      <td>married</td>\n",
       "      <td>secondary</td>\n",
       "      <td>no</td>\n",
       "      <td>119</td>\n",
       "      <td>yes</td>\n",
       "      <td>no</td>\n",
       "      <td>cellular</td>\n",
       "      <td>4</td>\n",
       "      <td>feb</td>\n",
       "      <td>380</td>\n",
       "      <td>1</td>\n",
       "      <td>-1</td>\n",
       "      <td>0</td>\n",
       "      <td>unknown</td>\n",
       "      <td>no</td>\n",
       "    </tr>\n",
       "    <tr>\n",
       "      <th>...</th>\n",
       "      <td>...</td>\n",
       "      <td>...</td>\n",
       "      <td>...</td>\n",
       "      <td>...</td>\n",
       "      <td>...</td>\n",
       "      <td>...</td>\n",
       "      <td>...</td>\n",
       "      <td>...</td>\n",
       "      <td>...</td>\n",
       "      <td>...</td>\n",
       "      <td>...</td>\n",
       "      <td>...</td>\n",
       "      <td>...</td>\n",
       "      <td>...</td>\n",
       "      <td>...</td>\n",
       "      <td>...</td>\n",
       "      <td>...</td>\n",
       "      <td>...</td>\n",
       "    </tr>\n",
       "    <tr>\n",
       "      <th>31642</th>\n",
       "      <td>36483</td>\n",
       "      <td>29</td>\n",
       "      <td>management</td>\n",
       "      <td>single</td>\n",
       "      <td>tertiary</td>\n",
       "      <td>no</td>\n",
       "      <td>0</td>\n",
       "      <td>yes</td>\n",
       "      <td>no</td>\n",
       "      <td>cellular</td>\n",
       "      <td>12</td>\n",
       "      <td>may</td>\n",
       "      <td>116</td>\n",
       "      <td>2</td>\n",
       "      <td>-1</td>\n",
       "      <td>0</td>\n",
       "      <td>unknown</td>\n",
       "      <td>no</td>\n",
       "    </tr>\n",
       "    <tr>\n",
       "      <th>31643</th>\n",
       "      <td>40178</td>\n",
       "      <td>53</td>\n",
       "      <td>management</td>\n",
       "      <td>divorced</td>\n",
       "      <td>tertiary</td>\n",
       "      <td>no</td>\n",
       "      <td>380</td>\n",
       "      <td>no</td>\n",
       "      <td>yes</td>\n",
       "      <td>cellular</td>\n",
       "      <td>5</td>\n",
       "      <td>jun</td>\n",
       "      <td>438</td>\n",
       "      <td>2</td>\n",
       "      <td>-1</td>\n",
       "      <td>0</td>\n",
       "      <td>unknown</td>\n",
       "      <td>yes</td>\n",
       "    </tr>\n",
       "    <tr>\n",
       "      <th>31644</th>\n",
       "      <td>19710</td>\n",
       "      <td>32</td>\n",
       "      <td>management</td>\n",
       "      <td>single</td>\n",
       "      <td>tertiary</td>\n",
       "      <td>no</td>\n",
       "      <td>312</td>\n",
       "      <td>no</td>\n",
       "      <td>no</td>\n",
       "      <td>cellular</td>\n",
       "      <td>7</td>\n",
       "      <td>aug</td>\n",
       "      <td>37</td>\n",
       "      <td>3</td>\n",
       "      <td>-1</td>\n",
       "      <td>0</td>\n",
       "      <td>unknown</td>\n",
       "      <td>no</td>\n",
       "    </tr>\n",
       "    <tr>\n",
       "      <th>31645</th>\n",
       "      <td>38556</td>\n",
       "      <td>57</td>\n",
       "      <td>technician</td>\n",
       "      <td>married</td>\n",
       "      <td>secondary</td>\n",
       "      <td>no</td>\n",
       "      <td>225</td>\n",
       "      <td>yes</td>\n",
       "      <td>no</td>\n",
       "      <td>telephone</td>\n",
       "      <td>15</td>\n",
       "      <td>may</td>\n",
       "      <td>22</td>\n",
       "      <td>7</td>\n",
       "      <td>337</td>\n",
       "      <td>12</td>\n",
       "      <td>failure</td>\n",
       "      <td>no</td>\n",
       "    </tr>\n",
       "    <tr>\n",
       "      <th>31646</th>\n",
       "      <td>14156</td>\n",
       "      <td>55</td>\n",
       "      <td>management</td>\n",
       "      <td>divorced</td>\n",
       "      <td>secondary</td>\n",
       "      <td>no</td>\n",
       "      <td>204</td>\n",
       "      <td>yes</td>\n",
       "      <td>no</td>\n",
       "      <td>cellular</td>\n",
       "      <td>11</td>\n",
       "      <td>jul</td>\n",
       "      <td>1973</td>\n",
       "      <td>2</td>\n",
       "      <td>-1</td>\n",
       "      <td>0</td>\n",
       "      <td>unknown</td>\n",
       "      <td>yes</td>\n",
       "    </tr>\n",
       "  </tbody>\n",
       "</table>\n",
       "<p>31647 rows × 18 columns</p>\n",
       "</div>"
      ],
      "text/plain": [
       "          ID  age         job   marital  education default  balance housing  \\\n",
       "0      26110   56      admin.   married    unknown      no     1933      no   \n",
       "1      40576   31     unknown   married  secondary      no        3      no   \n",
       "2      15320   27    services   married  secondary      no      891     yes   \n",
       "3      43962   57  management  divorced   tertiary      no     3287      no   \n",
       "4      29842   31  technician   married  secondary      no      119     yes   \n",
       "...      ...  ...         ...       ...        ...     ...      ...     ...   \n",
       "31642  36483   29  management    single   tertiary      no        0     yes   \n",
       "31643  40178   53  management  divorced   tertiary      no      380      no   \n",
       "31644  19710   32  management    single   tertiary      no      312      no   \n",
       "31645  38556   57  technician   married  secondary      no      225     yes   \n",
       "31646  14156   55  management  divorced  secondary      no      204     yes   \n",
       "\n",
       "      loan    contact  day month  duration  campaign  pdays  previous  \\\n",
       "0       no  telephone   19   nov        44         2     -1         0   \n",
       "1       no   cellular   20   jul        91         2     -1         0   \n",
       "2       no   cellular   18   jul       240         1     -1         0   \n",
       "3       no   cellular   22   jun       867         1     84         3   \n",
       "4       no   cellular    4   feb       380         1     -1         0   \n",
       "...    ...        ...  ...   ...       ...       ...    ...       ...   \n",
       "31642   no   cellular   12   may       116         2     -1         0   \n",
       "31643  yes   cellular    5   jun       438         2     -1         0   \n",
       "31644   no   cellular    7   aug        37         3     -1         0   \n",
       "31645   no  telephone   15   may        22         7    337        12   \n",
       "31646   no   cellular   11   jul      1973         2     -1         0   \n",
       "\n",
       "      poutcome subscribed  \n",
       "0      unknown         no  \n",
       "1      unknown         no  \n",
       "2      unknown         no  \n",
       "3      success        yes  \n",
       "4      unknown         no  \n",
       "...        ...        ...  \n",
       "31642  unknown         no  \n",
       "31643  unknown        yes  \n",
       "31644  unknown         no  \n",
       "31645  failure         no  \n",
       "31646  unknown        yes  \n",
       "\n",
       "[31647 rows x 18 columns]"
      ]
     },
     "execution_count": 2,
     "metadata": {},
     "output_type": "execute_result"
    }
   ],
   "source": [
    "train=pd.read_csv('bank_train_dataset.csv')\n",
    "train"
   ]
  },
  {
   "cell_type": "markdown",
   "id": "cc0edc18",
   "metadata": {},
   "source": [
    "loading the train dataset from my jupyternote book"
   ]
  },
  {
   "cell_type": "code",
   "execution_count": 3,
   "id": "f3ca1dc6",
   "metadata": {},
   "outputs": [
    {
     "data": {
      "text/html": [
       "<div>\n",
       "<style scoped>\n",
       "    .dataframe tbody tr th:only-of-type {\n",
       "        vertical-align: middle;\n",
       "    }\n",
       "\n",
       "    .dataframe tbody tr th {\n",
       "        vertical-align: top;\n",
       "    }\n",
       "\n",
       "    .dataframe thead th {\n",
       "        text-align: right;\n",
       "    }\n",
       "</style>\n",
       "<table border=\"1\" class=\"dataframe\">\n",
       "  <thead>\n",
       "    <tr style=\"text-align: right;\">\n",
       "      <th></th>\n",
       "      <th>ID</th>\n",
       "      <th>age</th>\n",
       "      <th>job</th>\n",
       "      <th>marital</th>\n",
       "      <th>education</th>\n",
       "      <th>default</th>\n",
       "      <th>balance</th>\n",
       "      <th>housing</th>\n",
       "      <th>loan</th>\n",
       "      <th>contact</th>\n",
       "      <th>day</th>\n",
       "      <th>month</th>\n",
       "      <th>duration</th>\n",
       "      <th>campaign</th>\n",
       "      <th>pdays</th>\n",
       "      <th>previous</th>\n",
       "      <th>poutcome</th>\n",
       "    </tr>\n",
       "  </thead>\n",
       "  <tbody>\n",
       "    <tr>\n",
       "      <th>0</th>\n",
       "      <td>38441</td>\n",
       "      <td>32</td>\n",
       "      <td>services</td>\n",
       "      <td>married</td>\n",
       "      <td>secondary</td>\n",
       "      <td>no</td>\n",
       "      <td>118</td>\n",
       "      <td>yes</td>\n",
       "      <td>no</td>\n",
       "      <td>cellular</td>\n",
       "      <td>15</td>\n",
       "      <td>may</td>\n",
       "      <td>20</td>\n",
       "      <td>6</td>\n",
       "      <td>-1</td>\n",
       "      <td>0</td>\n",
       "      <td>unknown</td>\n",
       "    </tr>\n",
       "    <tr>\n",
       "      <th>1</th>\n",
       "      <td>40403</td>\n",
       "      <td>78</td>\n",
       "      <td>retired</td>\n",
       "      <td>divorced</td>\n",
       "      <td>primary</td>\n",
       "      <td>no</td>\n",
       "      <td>2787</td>\n",
       "      <td>no</td>\n",
       "      <td>no</td>\n",
       "      <td>telephone</td>\n",
       "      <td>1</td>\n",
       "      <td>jul</td>\n",
       "      <td>372</td>\n",
       "      <td>1</td>\n",
       "      <td>-1</td>\n",
       "      <td>0</td>\n",
       "      <td>unknown</td>\n",
       "    </tr>\n",
       "    <tr>\n",
       "      <th>2</th>\n",
       "      <td>3709</td>\n",
       "      <td>31</td>\n",
       "      <td>self-employed</td>\n",
       "      <td>single</td>\n",
       "      <td>tertiary</td>\n",
       "      <td>no</td>\n",
       "      <td>144</td>\n",
       "      <td>yes</td>\n",
       "      <td>no</td>\n",
       "      <td>unknown</td>\n",
       "      <td>16</td>\n",
       "      <td>may</td>\n",
       "      <td>676</td>\n",
       "      <td>1</td>\n",
       "      <td>-1</td>\n",
       "      <td>0</td>\n",
       "      <td>unknown</td>\n",
       "    </tr>\n",
       "    <tr>\n",
       "      <th>3</th>\n",
       "      <td>37422</td>\n",
       "      <td>57</td>\n",
       "      <td>services</td>\n",
       "      <td>single</td>\n",
       "      <td>primary</td>\n",
       "      <td>no</td>\n",
       "      <td>3777</td>\n",
       "      <td>yes</td>\n",
       "      <td>no</td>\n",
       "      <td>telephone</td>\n",
       "      <td>13</td>\n",
       "      <td>may</td>\n",
       "      <td>65</td>\n",
       "      <td>2</td>\n",
       "      <td>-1</td>\n",
       "      <td>0</td>\n",
       "      <td>unknown</td>\n",
       "    </tr>\n",
       "    <tr>\n",
       "      <th>4</th>\n",
       "      <td>12527</td>\n",
       "      <td>45</td>\n",
       "      <td>blue-collar</td>\n",
       "      <td>divorced</td>\n",
       "      <td>secondary</td>\n",
       "      <td>no</td>\n",
       "      <td>-705</td>\n",
       "      <td>no</td>\n",
       "      <td>yes</td>\n",
       "      <td>unknown</td>\n",
       "      <td>3</td>\n",
       "      <td>jul</td>\n",
       "      <td>111</td>\n",
       "      <td>1</td>\n",
       "      <td>-1</td>\n",
       "      <td>0</td>\n",
       "      <td>unknown</td>\n",
       "    </tr>\n",
       "    <tr>\n",
       "      <th>...</th>\n",
       "      <td>...</td>\n",
       "      <td>...</td>\n",
       "      <td>...</td>\n",
       "      <td>...</td>\n",
       "      <td>...</td>\n",
       "      <td>...</td>\n",
       "      <td>...</td>\n",
       "      <td>...</td>\n",
       "      <td>...</td>\n",
       "      <td>...</td>\n",
       "      <td>...</td>\n",
       "      <td>...</td>\n",
       "      <td>...</td>\n",
       "      <td>...</td>\n",
       "      <td>...</td>\n",
       "      <td>...</td>\n",
       "      <td>...</td>\n",
       "    </tr>\n",
       "    <tr>\n",
       "      <th>13559</th>\n",
       "      <td>23465</td>\n",
       "      <td>39</td>\n",
       "      <td>management</td>\n",
       "      <td>married</td>\n",
       "      <td>tertiary</td>\n",
       "      <td>no</td>\n",
       "      <td>45</td>\n",
       "      <td>no</td>\n",
       "      <td>no</td>\n",
       "      <td>cellular</td>\n",
       "      <td>28</td>\n",
       "      <td>aug</td>\n",
       "      <td>148</td>\n",
       "      <td>4</td>\n",
       "      <td>-1</td>\n",
       "      <td>0</td>\n",
       "      <td>unknown</td>\n",
       "    </tr>\n",
       "    <tr>\n",
       "      <th>13560</th>\n",
       "      <td>11743</td>\n",
       "      <td>54</td>\n",
       "      <td>blue-collar</td>\n",
       "      <td>married</td>\n",
       "      <td>primary</td>\n",
       "      <td>no</td>\n",
       "      <td>2281</td>\n",
       "      <td>yes</td>\n",
       "      <td>no</td>\n",
       "      <td>unknown</td>\n",
       "      <td>20</td>\n",
       "      <td>jun</td>\n",
       "      <td>158</td>\n",
       "      <td>1</td>\n",
       "      <td>-1</td>\n",
       "      <td>0</td>\n",
       "      <td>unknown</td>\n",
       "    </tr>\n",
       "    <tr>\n",
       "      <th>13561</th>\n",
       "      <td>28292</td>\n",
       "      <td>35</td>\n",
       "      <td>retired</td>\n",
       "      <td>married</td>\n",
       "      <td>primary</td>\n",
       "      <td>no</td>\n",
       "      <td>285</td>\n",
       "      <td>yes</td>\n",
       "      <td>no</td>\n",
       "      <td>cellular</td>\n",
       "      <td>29</td>\n",
       "      <td>jan</td>\n",
       "      <td>136</td>\n",
       "      <td>1</td>\n",
       "      <td>-1</td>\n",
       "      <td>0</td>\n",
       "      <td>unknown</td>\n",
       "    </tr>\n",
       "    <tr>\n",
       "      <th>13562</th>\n",
       "      <td>45163</td>\n",
       "      <td>29</td>\n",
       "      <td>admin.</td>\n",
       "      <td>single</td>\n",
       "      <td>secondary</td>\n",
       "      <td>no</td>\n",
       "      <td>464</td>\n",
       "      <td>no</td>\n",
       "      <td>no</td>\n",
       "      <td>cellular</td>\n",
       "      <td>9</td>\n",
       "      <td>nov</td>\n",
       "      <td>208</td>\n",
       "      <td>2</td>\n",
       "      <td>91</td>\n",
       "      <td>3</td>\n",
       "      <td>success</td>\n",
       "    </tr>\n",
       "    <tr>\n",
       "      <th>13563</th>\n",
       "      <td>34839</td>\n",
       "      <td>29</td>\n",
       "      <td>admin.</td>\n",
       "      <td>married</td>\n",
       "      <td>secondary</td>\n",
       "      <td>no</td>\n",
       "      <td>2</td>\n",
       "      <td>yes</td>\n",
       "      <td>no</td>\n",
       "      <td>cellular</td>\n",
       "      <td>6</td>\n",
       "      <td>may</td>\n",
       "      <td>339</td>\n",
       "      <td>1</td>\n",
       "      <td>362</td>\n",
       "      <td>1</td>\n",
       "      <td>failure</td>\n",
       "    </tr>\n",
       "  </tbody>\n",
       "</table>\n",
       "<p>13564 rows × 17 columns</p>\n",
       "</div>"
      ],
      "text/plain": [
       "          ID  age            job   marital  education default  balance  \\\n",
       "0      38441   32       services   married  secondary      no      118   \n",
       "1      40403   78        retired  divorced    primary      no     2787   \n",
       "2       3709   31  self-employed    single   tertiary      no      144   \n",
       "3      37422   57       services    single    primary      no     3777   \n",
       "4      12527   45    blue-collar  divorced  secondary      no     -705   \n",
       "...      ...  ...            ...       ...        ...     ...      ...   \n",
       "13559  23465   39     management   married   tertiary      no       45   \n",
       "13560  11743   54    blue-collar   married    primary      no     2281   \n",
       "13561  28292   35        retired   married    primary      no      285   \n",
       "13562  45163   29         admin.    single  secondary      no      464   \n",
       "13563  34839   29         admin.   married  secondary      no        2   \n",
       "\n",
       "      housing loan    contact  day month  duration  campaign  pdays  previous  \\\n",
       "0         yes   no   cellular   15   may        20         6     -1         0   \n",
       "1          no   no  telephone    1   jul       372         1     -1         0   \n",
       "2         yes   no    unknown   16   may       676         1     -1         0   \n",
       "3         yes   no  telephone   13   may        65         2     -1         0   \n",
       "4          no  yes    unknown    3   jul       111         1     -1         0   \n",
       "...       ...  ...        ...  ...   ...       ...       ...    ...       ...   \n",
       "13559      no   no   cellular   28   aug       148         4     -1         0   \n",
       "13560     yes   no    unknown   20   jun       158         1     -1         0   \n",
       "13561     yes   no   cellular   29   jan       136         1     -1         0   \n",
       "13562      no   no   cellular    9   nov       208         2     91         3   \n",
       "13563     yes   no   cellular    6   may       339         1    362         1   \n",
       "\n",
       "      poutcome  \n",
       "0      unknown  \n",
       "1      unknown  \n",
       "2      unknown  \n",
       "3      unknown  \n",
       "4      unknown  \n",
       "...        ...  \n",
       "13559  unknown  \n",
       "13560  unknown  \n",
       "13561  unknown  \n",
       "13562  success  \n",
       "13563  failure  \n",
       "\n",
       "[13564 rows x 17 columns]"
      ]
     },
     "execution_count": 3,
     "metadata": {},
     "output_type": "execute_result"
    }
   ],
   "source": [
    "test=pd.read_csv('bank_test_dataset.csv')\n",
    "test"
   ]
  },
  {
   "cell_type": "markdown",
   "id": "85af596f",
   "metadata": {},
   "source": [
    "loading the test dataset from my jupyter notebook"
   ]
  },
  {
   "cell_type": "code",
   "execution_count": 4,
   "id": "3e8f3e7b",
   "metadata": {},
   "outputs": [
    {
     "data": {
      "text/plain": [
       "Index(['ID', 'age', 'job', 'marital', 'education', 'default', 'balance',\n",
       "       'housing', 'loan', 'contact', 'day', 'month', 'duration', 'campaign',\n",
       "       'pdays', 'previous', 'poutcome', 'subscribed'],\n",
       "      dtype='object')"
      ]
     },
     "execution_count": 4,
     "metadata": {},
     "output_type": "execute_result"
    }
   ],
   "source": [
    "train.columns"
   ]
  },
  {
   "cell_type": "markdown",
   "id": "a42b496f",
   "metadata": {},
   "source": [
    "columns in the train dataset"
   ]
  },
  {
   "cell_type": "code",
   "execution_count": 5,
   "id": "accfcd8a",
   "metadata": {},
   "outputs": [
    {
     "data": {
      "text/plain": [
       "Index(['ID', 'age', 'job', 'marital', 'education', 'default', 'balance',\n",
       "       'housing', 'loan', 'contact', 'day', 'month', 'duration', 'campaign',\n",
       "       'pdays', 'previous', 'poutcome'],\n",
       "      dtype='object')"
      ]
     },
     "execution_count": 5,
     "metadata": {},
     "output_type": "execute_result"
    }
   ],
   "source": [
    "test.columns"
   ]
  },
  {
   "cell_type": "markdown",
   "id": "6ec1ab48",
   "metadata": {},
   "source": [
    "columns present in the test datset"
   ]
  },
  {
   "cell_type": "markdown",
   "id": "1b9ebd4a",
   "metadata": {},
   "source": [
    "all the columns are same in both train and test dataset except the subscribed column"
   ]
  },
  {
   "cell_type": "code",
   "execution_count": 6,
   "id": "64c8ecea",
   "metadata": {},
   "outputs": [
    {
     "name": "stdout",
     "output_type": "stream",
     "text": [
      "<class 'pandas.core.frame.DataFrame'>\n",
      "RangeIndex: 31647 entries, 0 to 31646\n",
      "Data columns (total 18 columns):\n",
      " #   Column      Non-Null Count  Dtype \n",
      "---  ------      --------------  ----- \n",
      " 0   ID          31647 non-null  int64 \n",
      " 1   age         31647 non-null  int64 \n",
      " 2   job         31647 non-null  object\n",
      " 3   marital     31647 non-null  object\n",
      " 4   education   31647 non-null  object\n",
      " 5   default     31647 non-null  object\n",
      " 6   balance     31647 non-null  int64 \n",
      " 7   housing     31647 non-null  object\n",
      " 8   loan        31647 non-null  object\n",
      " 9   contact     31647 non-null  object\n",
      " 10  day         31647 non-null  int64 \n",
      " 11  month       31647 non-null  object\n",
      " 12  duration    31647 non-null  int64 \n",
      " 13  campaign    31647 non-null  int64 \n",
      " 14  pdays       31647 non-null  int64 \n",
      " 15  previous    31647 non-null  int64 \n",
      " 16  poutcome    31647 non-null  object\n",
      " 17  subscribed  31647 non-null  object\n",
      "dtypes: int64(8), object(10)\n",
      "memory usage: 4.3+ MB\n"
     ]
    }
   ],
   "source": [
    "train.info()"
   ]
  },
  {
   "cell_type": "markdown",
   "id": "9638ad00",
   "metadata": {},
   "source": [
    "there are 31647 rows present and 17columns present in the train dataset"
   ]
  },
  {
   "cell_type": "code",
   "execution_count": 7,
   "id": "7965c86d",
   "metadata": {},
   "outputs": [
    {
     "name": "stdout",
     "output_type": "stream",
     "text": [
      "<class 'pandas.core.frame.DataFrame'>\n",
      "RangeIndex: 13564 entries, 0 to 13563\n",
      "Data columns (total 17 columns):\n",
      " #   Column     Non-Null Count  Dtype \n",
      "---  ------     --------------  ----- \n",
      " 0   ID         13564 non-null  int64 \n",
      " 1   age        13564 non-null  int64 \n",
      " 2   job        13564 non-null  object\n",
      " 3   marital    13564 non-null  object\n",
      " 4   education  13564 non-null  object\n",
      " 5   default    13564 non-null  object\n",
      " 6   balance    13564 non-null  int64 \n",
      " 7   housing    13564 non-null  object\n",
      " 8   loan       13564 non-null  object\n",
      " 9   contact    13564 non-null  object\n",
      " 10  day        13564 non-null  int64 \n",
      " 11  month      13564 non-null  object\n",
      " 12  duration   13564 non-null  int64 \n",
      " 13  campaign   13564 non-null  int64 \n",
      " 14  pdays      13564 non-null  int64 \n",
      " 15  previous   13564 non-null  int64 \n",
      " 16  poutcome   13564 non-null  object\n",
      "dtypes: int64(8), object(9)\n",
      "memory usage: 1.8+ MB\n"
     ]
    }
   ],
   "source": [
    "test.info()"
   ]
  },
  {
   "cell_type": "markdown",
   "id": "65e30514",
   "metadata": {},
   "source": [
    "here 13564 rows and 16 columns present in test dataset"
   ]
  },
  {
   "cell_type": "code",
   "execution_count": 8,
   "id": "eb6f4285",
   "metadata": {},
   "outputs": [
    {
     "data": {
      "text/plain": [
       "ID            0\n",
       "age           0\n",
       "job           0\n",
       "marital       0\n",
       "education     0\n",
       "default       0\n",
       "balance       0\n",
       "housing       0\n",
       "loan          0\n",
       "contact       0\n",
       "day           0\n",
       "month         0\n",
       "duration      0\n",
       "campaign      0\n",
       "pdays         0\n",
       "previous      0\n",
       "poutcome      0\n",
       "subscribed    0\n",
       "dtype: int64"
      ]
     },
     "execution_count": 8,
     "metadata": {},
     "output_type": "execute_result"
    }
   ],
   "source": [
    "train.isnull().sum()"
   ]
  },
  {
   "cell_type": "markdown",
   "id": "0a66278c",
   "metadata": {},
   "source": [
    "there is no null values present in the train dataset"
   ]
  },
  {
   "cell_type": "code",
   "execution_count": 9,
   "id": "8d96bf63",
   "metadata": {},
   "outputs": [
    {
     "data": {
      "text/plain": [
       "ID           0\n",
       "age          0\n",
       "job          0\n",
       "marital      0\n",
       "education    0\n",
       "default      0\n",
       "balance      0\n",
       "housing      0\n",
       "loan         0\n",
       "contact      0\n",
       "day          0\n",
       "month        0\n",
       "duration     0\n",
       "campaign     0\n",
       "pdays        0\n",
       "previous     0\n",
       "poutcome     0\n",
       "dtype: int64"
      ]
     },
     "execution_count": 9,
     "metadata": {},
     "output_type": "execute_result"
    }
   ],
   "source": [
    "test.isnull().sum()"
   ]
  },
  {
   "cell_type": "markdown",
   "id": "90da29cd",
   "metadata": {},
   "source": [
    "in test dataset also there is no null values"
   ]
  },
  {
   "cell_type": "code",
   "execution_count": 10,
   "id": "34856c2c",
   "metadata": {},
   "outputs": [
    {
     "data": {
      "text/plain": [
       "no     27932\n",
       "yes     3715\n",
       "Name: subscribed, dtype: int64"
      ]
     },
     "execution_count": 10,
     "metadata": {},
     "output_type": "execute_result"
    }
   ],
   "source": [
    "train['subscribed'].value_counts()"
   ]
  },
  {
   "cell_type": "markdown",
   "id": "3dac4dbc",
   "metadata": {},
   "source": [
    "checking the value counts for target variable "
   ]
  },
  {
   "cell_type": "markdown",
   "id": "c5a2037d",
   "metadata": {},
   "source": [
    "# EDA"
   ]
  },
  {
   "cell_type": "code",
   "execution_count": 11,
   "id": "d4a5b185",
   "metadata": {},
   "outputs": [
    {
     "data": {
      "text/plain": [
       "<AxesSubplot:xlabel='subscribed', ylabel='count'>"
      ]
     },
     "execution_count": 11,
     "metadata": {},
     "output_type": "execute_result"
    },
    {
     "data": {
      "image/png": "[encoded data removed]",
      "text/plain": [
       "<Figure size 432x288 with 1 Axes>"
      ]
     },
     "metadata": {
      "needs_background": "light"
     },
     "output_type": "display_data"
    }
   ],
   "source": [
    "sns.countplot(data=train,x='subscribed')"
   ]
  },
  {
   "cell_type": "markdown",
   "id": "75556072",
   "metadata": {},
   "source": [
    "analysing the target column "
   ]
  },
  {
   "cell_type": "code",
   "execution_count": 12,
   "id": "1f9b0049",
   "metadata": {},
   "outputs": [
    {
     "data": {
      "text/plain": [
       "<AxesSubplot:xlabel='job', ylabel='count'>"
      ]
     },
     "execution_count": 12,
     "metadata": {},
     "output_type": "execute_result"
    },
    {
     "data": {
      "image/png": "[encoded data removed]",
      "text/plain": [
       "<Figure size 1800x720 with 1 Axes>"
      ]
     },
     "metadata": {
      "needs_background": "light"
     },
     "output_type": "display_data"
    }
   ],
   "source": [
    "plt.figure(figsize=(25,10))\n",
    "sns.countplot(data=train,x='job')"
   ]
  },
  {
   "cell_type": "markdown",
   "id": "d7a43b92",
   "metadata": {},
   "source": [
    "analysing the job column , value counts for each profesion how many people are present"
   ]
  },
  {
   "cell_type": "code",
   "execution_count": 13,
   "id": "4306a126",
   "metadata": {},
   "outputs": [
    {
     "name": "stdout",
     "output_type": "stream",
     "text": [
      "yes    17584\n",
      "no     14063\n",
      "Name: housing, dtype: int64\n"
     ]
    },
    {
     "data": {
      "image/png": "[encoded data removed]",
      "text/plain": [
       "<Figure size 432x288 with 1 Axes>"
      ]
     },
     "metadata": {
      "needs_background": "light"
     },
     "output_type": "display_data"
    }
   ],
   "source": [
    "sns.countplot(data=train,x='housing')\n",
    "print(train['housing'].value_counts())"
   ]
  },
  {
   "cell_type": "markdown",
   "id": "d1dcb000",
   "metadata": {},
   "source": [
    "17584 people has own house and 14063 people not having the own house"
   ]
  },
  {
   "cell_type": "code",
   "execution_count": 14,
   "id": "1962c9a8",
   "metadata": {},
   "outputs": [
    {
     "data": {
      "text/plain": [
       "<AxesSubplot:>"
      ]
     },
     "execution_count": 14,
     "metadata": {},
     "output_type": "execute_result"
    },
    {
     "data": {
      "image/png": "[encoded data removed]",
      "text/plain": [
       "<Figure size 720x360 with 1 Axes>"
      ]
     },
     "metadata": {
      "needs_background": "light"
     },
     "output_type": "display_data"
    }
   ],
   "source": [
    "sns.set_context('paper')\n",
    "train['job'].value_counts().plot(kind='bar',figsize=(10,5))"
   ]
  },
  {
   "cell_type": "markdown",
   "id": "43462764",
   "metadata": {},
   "source": [
    "analysing the job , to identify why work profesion has mejority"
   ]
  },
  {
   "cell_type": "code",
   "execution_count": 15,
   "id": "e66633bb",
   "metadata": {},
   "outputs": [
    {
     "data": {
      "text/plain": [
       "<AxesSubplot:>"
      ]
     },
     "execution_count": 15,
     "metadata": {},
     "output_type": "execute_result"
    },
    {
     "data": {
      "image/png": "[encoded data removed]",
      "text/plain": [
       "<Figure size 720x360 with 1 Axes>"
      ]
     },
     "metadata": {
      "needs_background": "light"
     },
     "output_type": "display_data"
    }
   ],
   "source": [
    "sns.set_context('paper')\n",
    "train['marital'].value_counts().plot(kind='bar',figsize=(10,5))"
   ]
  },
  {
   "cell_type": "markdown",
   "id": "b80fc8b3",
   "metadata": {},
   "source": [
    "married people are more compared to single and divorced"
   ]
  },
  {
   "cell_type": "code",
   "execution_count": 16,
   "id": "ee56ce57",
   "metadata": {},
   "outputs": [
    {
     "data": {
      "text/plain": [
       "<AxesSubplot:>"
      ]
     },
     "execution_count": 16,
     "metadata": {},
     "output_type": "execute_result"
    },
    {
     "data": {
      "image/png": "[encoded data removed]",
      "text/plain": [
       "<Figure size 720x360 with 1 Axes>"
      ]
     },
     "metadata": {
      "needs_background": "light"
     },
     "output_type": "display_data"
    }
   ],
   "source": [
    "train['education'].value_counts().plot(kind='bar',figsize=(10,5))"
   ]
  },
  {
   "cell_type": "markdown",
   "id": "396f68db",
   "metadata": {},
   "source": [
    "education columns shows mejority of people are completed secondary education"
   ]
  },
  {
   "cell_type": "code",
   "execution_count": 17,
   "id": "dbf335ad",
   "metadata": {},
   "outputs": [
    {
     "name": "stdout",
     "output_type": "stream",
     "text": [
      "no     26516\n",
      "yes     5131\n",
      "Name: loan, dtype: int64\n"
     ]
    },
    {
     "data": {
      "image/png": "[encoded data removed]",
      "text/plain": [
       "<Figure size 432x288 with 1 Axes>"
      ]
     },
     "metadata": {
      "needs_background": "light"
     },
     "output_type": "display_data"
    }
   ],
   "source": [
    "sns.countplot(data=train,x='loan')\n",
    "print(train['loan'].value_counts())"
   ]
  },
  {
   "cell_type": "markdown",
   "id": "f993d00d",
   "metadata": {},
   "source": [
    "in loan column we can see most of are not taken the loan"
   ]
  },
  {
   "cell_type": "code",
   "execution_count": 18,
   "id": "af5e4de9",
   "metadata": {},
   "outputs": [
    {
     "data": {
      "text/plain": [
       "<AxesSubplot:xlabel='marital', ylabel='count'>"
      ]
     },
     "execution_count": 18,
     "metadata": {},
     "output_type": "execute_result"
    },
    {
     "data": {
      "image/png": "[encoded data removed]",
      "text/plain": [
       "<Figure size 432x288 with 1 Axes>"
      ]
     },
     "metadata": {
      "needs_background": "light"
     },
     "output_type": "display_data"
    }
   ],
   "source": [
    "sns.countplot(data=train,x='marital',hue='subscribed')"
   ]
  },
  {
   "cell_type": "markdown",
   "id": "e4514354",
   "metadata": {},
   "source": [
    "married people are subscribed more and followed by single and divorced people"
   ]
  },
  {
   "cell_type": "code",
   "execution_count": 19,
   "id": "207791b3",
   "metadata": {},
   "outputs": [
    {
     "data": {
      "text/plain": [
       "<AxesSubplot:xlabel='job', ylabel='count'>"
      ]
     },
     "execution_count": 19,
     "metadata": {},
     "output_type": "execute_result"
    },
    {
     "data": {
      "image/png": "[encoded data removed]",
      "text/plain": [
       "<Figure size 1440x576 with 1 Axes>"
      ]
     },
     "metadata": {
      "needs_background": "light"
     },
     "output_type": "display_data"
    }
   ],
   "source": [
    "plt.figure(figsize=(20,8))\n",
    "sns.countplot(data=train,x='job',hue='subscribed')"
   ]
  },
  {
   "cell_type": "markdown",
   "id": "528f4b95",
   "metadata": {},
   "source": [
    "working as management are subscribed more and fallowed by technician"
   ]
  },
  {
   "cell_type": "code",
   "execution_count": 20,
   "id": "32f159e8",
   "metadata": {},
   "outputs": [
    {
     "data": {
      "text/plain": [
       "<AxesSubplot:xlabel='contact', ylabel='count'>"
      ]
     },
     "execution_count": 20,
     "metadata": {},
     "output_type": "execute_result"
    },
    {
     "data": {
      "image/png": "[encoded data removed]",
      "text/plain": [
       "<Figure size 432x288 with 1 Axes>"
      ]
     },
     "metadata": {
      "needs_background": "light"
     },
     "output_type": "display_data"
    }
   ],
   "source": [
    "sns.countplot(data=train,x='contact',hue='subscribed')"
   ]
  },
  {
   "cell_type": "markdown",
   "id": "1d1026da",
   "metadata": {},
   "source": [
    "people having cellular contact are subscribed more"
   ]
  },
  {
   "cell_type": "code",
   "execution_count": 21,
   "id": "07f35737",
   "metadata": {},
   "outputs": [
    {
     "data": {
      "text/plain": [
       "<AxesSubplot:xlabel='loan', ylabel='count'>"
      ]
     },
     "execution_count": 21,
     "metadata": {},
     "output_type": "execute_result"
    },
    {
     "data": {
      "image/png": "[encoded data removed]",
      "text/plain": [
       "<Figure size 432x288 with 1 Axes>"
      ]
     },
     "metadata": {
      "needs_background": "light"
     },
     "output_type": "display_data"
    }
   ],
   "source": [
    "sns.countplot(data=train,x='loan',hue='subscribed')"
   ]
  },
  {
   "cell_type": "markdown",
   "id": "13c77a49",
   "metadata": {},
   "source": [
    "people who are not taken loan are subscribed more compared to loan taken"
   ]
  },
  {
   "cell_type": "code",
   "execution_count": 22,
   "id": "8b1c8395",
   "metadata": {},
   "outputs": [],
   "source": [
    "df=pd.concat([train,test])"
   ]
  },
  {
   "cell_type": "markdown",
   "id": "ef4cd79f",
   "metadata": {},
   "source": [
    "Murging the both train and test dataset for further process with the help of concat method"
   ]
  },
  {
   "cell_type": "code",
   "execution_count": 23,
   "id": "c1d38937",
   "metadata": {},
   "outputs": [
    {
     "data": {
      "text/html": [
       "<div>\n",
       "<style scoped>\n",
       "    .dataframe tbody tr th:only-of-type {\n",
       "        vertical-align: middle;\n",
       "    }\n",
       "\n",
       "    .dataframe tbody tr th {\n",
       "        vertical-align: top;\n",
       "    }\n",
       "\n",
       "    .dataframe thead th {\n",
       "        text-align: right;\n",
       "    }\n",
       "</style>\n",
       "<table border=\"1\" class=\"dataframe\">\n",
       "  <thead>\n",
       "    <tr style=\"text-align: right;\">\n",
       "      <th></th>\n",
       "      <th>ID</th>\n",
       "      <th>age</th>\n",
       "      <th>job</th>\n",
       "      <th>marital</th>\n",
       "      <th>education</th>\n",
       "      <th>default</th>\n",
       "      <th>balance</th>\n",
       "      <th>housing</th>\n",
       "      <th>loan</th>\n",
       "      <th>contact</th>\n",
       "      <th>day</th>\n",
       "      <th>month</th>\n",
       "      <th>duration</th>\n",
       "      <th>campaign</th>\n",
       "      <th>pdays</th>\n",
       "      <th>previous</th>\n",
       "      <th>poutcome</th>\n",
       "      <th>subscribed</th>\n",
       "    </tr>\n",
       "  </thead>\n",
       "  <tbody>\n",
       "    <tr>\n",
       "      <th>0</th>\n",
       "      <td>26110</td>\n",
       "      <td>56</td>\n",
       "      <td>admin.</td>\n",
       "      <td>married</td>\n",
       "      <td>unknown</td>\n",
       "      <td>no</td>\n",
       "      <td>1933</td>\n",
       "      <td>no</td>\n",
       "      <td>no</td>\n",
       "      <td>telephone</td>\n",
       "      <td>19</td>\n",
       "      <td>nov</td>\n",
       "      <td>44</td>\n",
       "      <td>2</td>\n",
       "      <td>-1</td>\n",
       "      <td>0</td>\n",
       "      <td>unknown</td>\n",
       "      <td>no</td>\n",
       "    </tr>\n",
       "    <tr>\n",
       "      <th>1</th>\n",
       "      <td>40576</td>\n",
       "      <td>31</td>\n",
       "      <td>unknown</td>\n",
       "      <td>married</td>\n",
       "      <td>secondary</td>\n",
       "      <td>no</td>\n",
       "      <td>3</td>\n",
       "      <td>no</td>\n",
       "      <td>no</td>\n",
       "      <td>cellular</td>\n",
       "      <td>20</td>\n",
       "      <td>jul</td>\n",
       "      <td>91</td>\n",
       "      <td>2</td>\n",
       "      <td>-1</td>\n",
       "      <td>0</td>\n",
       "      <td>unknown</td>\n",
       "      <td>no</td>\n",
       "    </tr>\n",
       "    <tr>\n",
       "      <th>2</th>\n",
       "      <td>15320</td>\n",
       "      <td>27</td>\n",
       "      <td>services</td>\n",
       "      <td>married</td>\n",
       "      <td>secondary</td>\n",
       "      <td>no</td>\n",
       "      <td>891</td>\n",
       "      <td>yes</td>\n",
       "      <td>no</td>\n",
       "      <td>cellular</td>\n",
       "      <td>18</td>\n",
       "      <td>jul</td>\n",
       "      <td>240</td>\n",
       "      <td>1</td>\n",
       "      <td>-1</td>\n",
       "      <td>0</td>\n",
       "      <td>unknown</td>\n",
       "      <td>no</td>\n",
       "    </tr>\n",
       "    <tr>\n",
       "      <th>3</th>\n",
       "      <td>43962</td>\n",
       "      <td>57</td>\n",
       "      <td>management</td>\n",
       "      <td>divorced</td>\n",
       "      <td>tertiary</td>\n",
       "      <td>no</td>\n",
       "      <td>3287</td>\n",
       "      <td>no</td>\n",
       "      <td>no</td>\n",
       "      <td>cellular</td>\n",
       "      <td>22</td>\n",
       "      <td>jun</td>\n",
       "      <td>867</td>\n",
       "      <td>1</td>\n",
       "      <td>84</td>\n",
       "      <td>3</td>\n",
       "      <td>success</td>\n",
       "      <td>yes</td>\n",
       "    </tr>\n",
       "    <tr>\n",
       "      <th>4</th>\n",
       "      <td>29842</td>\n",
       "      <td>31</td>\n",
       "      <td>technician</td>\n",
       "      <td>married</td>\n",
       "      <td>secondary</td>\n",
       "      <td>no</td>\n",
       "      <td>119</td>\n",
       "      <td>yes</td>\n",
       "      <td>no</td>\n",
       "      <td>cellular</td>\n",
       "      <td>4</td>\n",
       "      <td>feb</td>\n",
       "      <td>380</td>\n",
       "      <td>1</td>\n",
       "      <td>-1</td>\n",
       "      <td>0</td>\n",
       "      <td>unknown</td>\n",
       "      <td>no</td>\n",
       "    </tr>\n",
       "    <tr>\n",
       "      <th>...</th>\n",
       "      <td>...</td>\n",
       "      <td>...</td>\n",
       "      <td>...</td>\n",
       "      <td>...</td>\n",
       "      <td>...</td>\n",
       "      <td>...</td>\n",
       "      <td>...</td>\n",
       "      <td>...</td>\n",
       "      <td>...</td>\n",
       "      <td>...</td>\n",
       "      <td>...</td>\n",
       "      <td>...</td>\n",
       "      <td>...</td>\n",
       "      <td>...</td>\n",
       "      <td>...</td>\n",
       "      <td>...</td>\n",
       "      <td>...</td>\n",
       "      <td>...</td>\n",
       "    </tr>\n",
       "    <tr>\n",
       "      <th>13559</th>\n",
       "      <td>23465</td>\n",
       "      <td>39</td>\n",
       "      <td>management</td>\n",
       "      <td>married</td>\n",
       "      <td>tertiary</td>\n",
       "      <td>no</td>\n",
       "      <td>45</td>\n",
       "      <td>no</td>\n",
       "      <td>no</td>\n",
       "      <td>cellular</td>\n",
       "      <td>28</td>\n",
       "      <td>aug</td>\n",
       "      <td>148</td>\n",
       "      <td>4</td>\n",
       "      <td>-1</td>\n",
       "      <td>0</td>\n",
       "      <td>unknown</td>\n",
       "      <td>NaN</td>\n",
       "    </tr>\n",
       "    <tr>\n",
       "      <th>13560</th>\n",
       "      <td>11743</td>\n",
       "      <td>54</td>\n",
       "      <td>blue-collar</td>\n",
       "      <td>married</td>\n",
       "      <td>primary</td>\n",
       "      <td>no</td>\n",
       "      <td>2281</td>\n",
       "      <td>yes</td>\n",
       "      <td>no</td>\n",
       "      <td>unknown</td>\n",
       "      <td>20</td>\n",
       "      <td>jun</td>\n",
       "      <td>158</td>\n",
       "      <td>1</td>\n",
       "      <td>-1</td>\n",
       "      <td>0</td>\n",
       "      <td>unknown</td>\n",
       "      <td>NaN</td>\n",
       "    </tr>\n",
       "    <tr>\n",
       "      <th>13561</th>\n",
       "      <td>28292</td>\n",
       "      <td>35</td>\n",
       "      <td>retired</td>\n",
       "      <td>married</td>\n",
       "      <td>primary</td>\n",
       "      <td>no</td>\n",
       "      <td>285</td>\n",
       "      <td>yes</td>\n",
       "      <td>no</td>\n",
       "      <td>cellular</td>\n",
       "      <td>29</td>\n",
       "      <td>jan</td>\n",
       "      <td>136</td>\n",
       "      <td>1</td>\n",
       "      <td>-1</td>\n",
       "      <td>0</td>\n",
       "      <td>unknown</td>\n",
       "      <td>NaN</td>\n",
       "    </tr>\n",
       "    <tr>\n",
       "      <th>13562</th>\n",
       "      <td>45163</td>\n",
       "      <td>29</td>\n",
       "      <td>admin.</td>\n",
       "      <td>single</td>\n",
       "      <td>secondary</td>\n",
       "      <td>no</td>\n",
       "      <td>464</td>\n",
       "      <td>no</td>\n",
       "      <td>no</td>\n",
       "      <td>cellular</td>\n",
       "      <td>9</td>\n",
       "      <td>nov</td>\n",
       "      <td>208</td>\n",
       "      <td>2</td>\n",
       "      <td>91</td>\n",
       "      <td>3</td>\n",
       "      <td>success</td>\n",
       "      <td>NaN</td>\n",
       "    </tr>\n",
       "    <tr>\n",
       "      <th>13563</th>\n",
       "      <td>34839</td>\n",
       "      <td>29</td>\n",
       "      <td>admin.</td>\n",
       "      <td>married</td>\n",
       "      <td>secondary</td>\n",
       "      <td>no</td>\n",
       "      <td>2</td>\n",
       "      <td>yes</td>\n",
       "      <td>no</td>\n",
       "      <td>cellular</td>\n",
       "      <td>6</td>\n",
       "      <td>may</td>\n",
       "      <td>339</td>\n",
       "      <td>1</td>\n",
       "      <td>362</td>\n",
       "      <td>1</td>\n",
       "      <td>failure</td>\n",
       "      <td>NaN</td>\n",
       "    </tr>\n",
       "  </tbody>\n",
       "</table>\n",
       "<p>45211 rows × 18 columns</p>\n",
       "</div>"
      ],
      "text/plain": [
       "          ID  age          job   marital  education default  balance housing  \\\n",
       "0      26110   56       admin.   married    unknown      no     1933      no   \n",
       "1      40576   31      unknown   married  secondary      no        3      no   \n",
       "2      15320   27     services   married  secondary      no      891     yes   \n",
       "3      43962   57   management  divorced   tertiary      no     3287      no   \n",
       "4      29842   31   technician   married  secondary      no      119     yes   \n",
       "...      ...  ...          ...       ...        ...     ...      ...     ...   \n",
       "13559  23465   39   management   married   tertiary      no       45      no   \n",
       "13560  11743   54  blue-collar   married    primary      no     2281     yes   \n",
       "13561  28292   35      retired   married    primary      no      285     yes   \n",
       "13562  45163   29       admin.    single  secondary      no      464      no   \n",
       "13563  34839   29       admin.   married  secondary      no        2     yes   \n",
       "\n",
       "      loan    contact  day month  duration  campaign  pdays  previous  \\\n",
       "0       no  telephone   19   nov        44         2     -1         0   \n",
       "1       no   cellular   20   jul        91         2     -1         0   \n",
       "2       no   cellular   18   jul       240         1     -1         0   \n",
       "3       no   cellular   22   jun       867         1     84         3   \n",
       "4       no   cellular    4   feb       380         1     -1         0   \n",
       "...    ...        ...  ...   ...       ...       ...    ...       ...   \n",
       "13559   no   cellular   28   aug       148         4     -1         0   \n",
       "13560   no    unknown   20   jun       158         1     -1         0   \n",
       "13561   no   cellular   29   jan       136         1     -1         0   \n",
       "13562   no   cellular    9   nov       208         2     91         3   \n",
       "13563   no   cellular    6   may       339         1    362         1   \n",
       "\n",
       "      poutcome subscribed  \n",
       "0      unknown         no  \n",
       "1      unknown         no  \n",
       "2      unknown         no  \n",
       "3      success        yes  \n",
       "4      unknown         no  \n",
       "...        ...        ...  \n",
       "13559  unknown        NaN  \n",
       "13560  unknown        NaN  \n",
       "13561  unknown        NaN  \n",
       "13562  success        NaN  \n",
       "13563  failure        NaN  \n",
       "\n",
       "[45211 rows x 18 columns]"
      ]
     },
     "execution_count": 23,
     "metadata": {},
     "output_type": "execute_result"
    }
   ],
   "source": [
    "df"
   ]
  },
  {
   "cell_type": "code",
   "execution_count": 24,
   "id": "b9b7f07f",
   "metadata": {},
   "outputs": [
    {
     "name": "stdout",
     "output_type": "stream",
     "text": [
      "<class 'pandas.core.frame.DataFrame'>\n",
      "Int64Index: 45211 entries, 0 to 13563\n",
      "Data columns (total 18 columns):\n",
      " #   Column      Non-Null Count  Dtype \n",
      "---  ------      --------------  ----- \n",
      " 0   ID          45211 non-null  int64 \n",
      " 1   age         45211 non-null  int64 \n",
      " 2   job         45211 non-null  object\n",
      " 3   marital     45211 non-null  object\n",
      " 4   education   45211 non-null  object\n",
      " 5   default     45211 non-null  object\n",
      " 6   balance     45211 non-null  int64 \n",
      " 7   housing     45211 non-null  object\n",
      " 8   loan        45211 non-null  object\n",
      " 9   contact     45211 non-null  object\n",
      " 10  day         45211 non-null  int64 \n",
      " 11  month       45211 non-null  object\n",
      " 12  duration    45211 non-null  int64 \n",
      " 13  campaign    45211 non-null  int64 \n",
      " 14  pdays       45211 non-null  int64 \n",
      " 15  previous    45211 non-null  int64 \n",
      " 16  poutcome    45211 non-null  object\n",
      " 17  subscribed  31647 non-null  object\n",
      "dtypes: int64(8), object(10)\n",
      "memory usage: 6.6+ MB\n"
     ]
    }
   ],
   "source": [
    "df.info()"
   ]
  },
  {
   "cell_type": "markdown",
   "id": "ee33916c",
   "metadata": {},
   "source": [
    "after merging the datasets we can see there are 45211 rows and 18 columns are present \n",
    "\n",
    "2 types of data is present here interger and object datatype"
   ]
  },
  {
   "cell_type": "code",
   "execution_count": 25,
   "id": "22c00e57",
   "metadata": {},
   "outputs": [
    {
     "data": {
      "text/html": [
       "<div>\n",
       "<style scoped>\n",
       "    .dataframe tbody tr th:only-of-type {\n",
       "        vertical-align: middle;\n",
       "    }\n",
       "\n",
       "    .dataframe tbody tr th {\n",
       "        vertical-align: top;\n",
       "    }\n",
       "\n",
       "    .dataframe thead th {\n",
       "        text-align: right;\n",
       "    }\n",
       "</style>\n",
       "<table border=\"1\" class=\"dataframe\">\n",
       "  <thead>\n",
       "    <tr style=\"text-align: right;\">\n",
       "      <th></th>\n",
       "      <th>ID</th>\n",
       "      <th>age</th>\n",
       "      <th>job</th>\n",
       "      <th>marital</th>\n",
       "      <th>education</th>\n",
       "      <th>default</th>\n",
       "      <th>balance</th>\n",
       "      <th>housing</th>\n",
       "      <th>loan</th>\n",
       "      <th>contact</th>\n",
       "      <th>day</th>\n",
       "      <th>month</th>\n",
       "      <th>duration</th>\n",
       "      <th>campaign</th>\n",
       "      <th>pdays</th>\n",
       "      <th>previous</th>\n",
       "      <th>poutcome</th>\n",
       "      <th>subscribed</th>\n",
       "    </tr>\n",
       "  </thead>\n",
       "  <tbody>\n",
       "    <tr>\n",
       "      <th>0</th>\n",
       "      <td>26110</td>\n",
       "      <td>56</td>\n",
       "      <td>0.0</td>\n",
       "      <td>1.0</td>\n",
       "      <td>3.0</td>\n",
       "      <td>0.0</td>\n",
       "      <td>1933</td>\n",
       "      <td>0.0</td>\n",
       "      <td>0.0</td>\n",
       "      <td>1.0</td>\n",
       "      <td>19</td>\n",
       "      <td>9.0</td>\n",
       "      <td>44</td>\n",
       "      <td>2</td>\n",
       "      <td>-1</td>\n",
       "      <td>0</td>\n",
       "      <td>3.0</td>\n",
       "      <td>0.0</td>\n",
       "    </tr>\n",
       "    <tr>\n",
       "      <th>1</th>\n",
       "      <td>40576</td>\n",
       "      <td>31</td>\n",
       "      <td>11.0</td>\n",
       "      <td>1.0</td>\n",
       "      <td>1.0</td>\n",
       "      <td>0.0</td>\n",
       "      <td>3</td>\n",
       "      <td>0.0</td>\n",
       "      <td>0.0</td>\n",
       "      <td>0.0</td>\n",
       "      <td>20</td>\n",
       "      <td>5.0</td>\n",
       "      <td>91</td>\n",
       "      <td>2</td>\n",
       "      <td>-1</td>\n",
       "      <td>0</td>\n",
       "      <td>3.0</td>\n",
       "      <td>0.0</td>\n",
       "    </tr>\n",
       "    <tr>\n",
       "      <th>2</th>\n",
       "      <td>15320</td>\n",
       "      <td>27</td>\n",
       "      <td>7.0</td>\n",
       "      <td>1.0</td>\n",
       "      <td>1.0</td>\n",
       "      <td>0.0</td>\n",
       "      <td>891</td>\n",
       "      <td>1.0</td>\n",
       "      <td>0.0</td>\n",
       "      <td>0.0</td>\n",
       "      <td>18</td>\n",
       "      <td>5.0</td>\n",
       "      <td>240</td>\n",
       "      <td>1</td>\n",
       "      <td>-1</td>\n",
       "      <td>0</td>\n",
       "      <td>3.0</td>\n",
       "      <td>0.0</td>\n",
       "    </tr>\n",
       "    <tr>\n",
       "      <th>3</th>\n",
       "      <td>43962</td>\n",
       "      <td>57</td>\n",
       "      <td>4.0</td>\n",
       "      <td>0.0</td>\n",
       "      <td>2.0</td>\n",
       "      <td>0.0</td>\n",
       "      <td>3287</td>\n",
       "      <td>0.0</td>\n",
       "      <td>0.0</td>\n",
       "      <td>0.0</td>\n",
       "      <td>22</td>\n",
       "      <td>6.0</td>\n",
       "      <td>867</td>\n",
       "      <td>1</td>\n",
       "      <td>84</td>\n",
       "      <td>3</td>\n",
       "      <td>2.0</td>\n",
       "      <td>1.0</td>\n",
       "    </tr>\n",
       "    <tr>\n",
       "      <th>4</th>\n",
       "      <td>29842</td>\n",
       "      <td>31</td>\n",
       "      <td>9.0</td>\n",
       "      <td>1.0</td>\n",
       "      <td>1.0</td>\n",
       "      <td>0.0</td>\n",
       "      <td>119</td>\n",
       "      <td>1.0</td>\n",
       "      <td>0.0</td>\n",
       "      <td>0.0</td>\n",
       "      <td>4</td>\n",
       "      <td>3.0</td>\n",
       "      <td>380</td>\n",
       "      <td>1</td>\n",
       "      <td>-1</td>\n",
       "      <td>0</td>\n",
       "      <td>3.0</td>\n",
       "      <td>0.0</td>\n",
       "    </tr>\n",
       "    <tr>\n",
       "      <th>...</th>\n",
       "      <td>...</td>\n",
       "      <td>...</td>\n",
       "      <td>...</td>\n",
       "      <td>...</td>\n",
       "      <td>...</td>\n",
       "      <td>...</td>\n",
       "      <td>...</td>\n",
       "      <td>...</td>\n",
       "      <td>...</td>\n",
       "      <td>...</td>\n",
       "      <td>...</td>\n",
       "      <td>...</td>\n",
       "      <td>...</td>\n",
       "      <td>...</td>\n",
       "      <td>...</td>\n",
       "      <td>...</td>\n",
       "      <td>...</td>\n",
       "      <td>...</td>\n",
       "    </tr>\n",
       "    <tr>\n",
       "      <th>13559</th>\n",
       "      <td>23465</td>\n",
       "      <td>39</td>\n",
       "      <td>4.0</td>\n",
       "      <td>1.0</td>\n",
       "      <td>2.0</td>\n",
       "      <td>0.0</td>\n",
       "      <td>45</td>\n",
       "      <td>0.0</td>\n",
       "      <td>0.0</td>\n",
       "      <td>0.0</td>\n",
       "      <td>28</td>\n",
       "      <td>1.0</td>\n",
       "      <td>148</td>\n",
       "      <td>4</td>\n",
       "      <td>-1</td>\n",
       "      <td>0</td>\n",
       "      <td>3.0</td>\n",
       "      <td>NaN</td>\n",
       "    </tr>\n",
       "    <tr>\n",
       "      <th>13560</th>\n",
       "      <td>11743</td>\n",
       "      <td>54</td>\n",
       "      <td>1.0</td>\n",
       "      <td>1.0</td>\n",
       "      <td>0.0</td>\n",
       "      <td>0.0</td>\n",
       "      <td>2281</td>\n",
       "      <td>1.0</td>\n",
       "      <td>0.0</td>\n",
       "      <td>2.0</td>\n",
       "      <td>20</td>\n",
       "      <td>6.0</td>\n",
       "      <td>158</td>\n",
       "      <td>1</td>\n",
       "      <td>-1</td>\n",
       "      <td>0</td>\n",
       "      <td>3.0</td>\n",
       "      <td>NaN</td>\n",
       "    </tr>\n",
       "    <tr>\n",
       "      <th>13561</th>\n",
       "      <td>28292</td>\n",
       "      <td>35</td>\n",
       "      <td>5.0</td>\n",
       "      <td>1.0</td>\n",
       "      <td>0.0</td>\n",
       "      <td>0.0</td>\n",
       "      <td>285</td>\n",
       "      <td>1.0</td>\n",
       "      <td>0.0</td>\n",
       "      <td>0.0</td>\n",
       "      <td>29</td>\n",
       "      <td>4.0</td>\n",
       "      <td>136</td>\n",
       "      <td>1</td>\n",
       "      <td>-1</td>\n",
       "      <td>0</td>\n",
       "      <td>3.0</td>\n",
       "      <td>NaN</td>\n",
       "    </tr>\n",
       "    <tr>\n",
       "      <th>13562</th>\n",
       "      <td>45163</td>\n",
       "      <td>29</td>\n",
       "      <td>0.0</td>\n",
       "      <td>2.0</td>\n",
       "      <td>1.0</td>\n",
       "      <td>0.0</td>\n",
       "      <td>464</td>\n",
       "      <td>0.0</td>\n",
       "      <td>0.0</td>\n",
       "      <td>0.0</td>\n",
       "      <td>9</td>\n",
       "      <td>9.0</td>\n",
       "      <td>208</td>\n",
       "      <td>2</td>\n",
       "      <td>91</td>\n",
       "      <td>3</td>\n",
       "      <td>2.0</td>\n",
       "      <td>NaN</td>\n",
       "    </tr>\n",
       "    <tr>\n",
       "      <th>13563</th>\n",
       "      <td>34839</td>\n",
       "      <td>29</td>\n",
       "      <td>0.0</td>\n",
       "      <td>1.0</td>\n",
       "      <td>1.0</td>\n",
       "      <td>0.0</td>\n",
       "      <td>2</td>\n",
       "      <td>1.0</td>\n",
       "      <td>0.0</td>\n",
       "      <td>0.0</td>\n",
       "      <td>6</td>\n",
       "      <td>8.0</td>\n",
       "      <td>339</td>\n",
       "      <td>1</td>\n",
       "      <td>362</td>\n",
       "      <td>1</td>\n",
       "      <td>0.0</td>\n",
       "      <td>NaN</td>\n",
       "    </tr>\n",
       "  </tbody>\n",
       "</table>\n",
       "<p>45211 rows × 18 columns</p>\n",
       "</div>"
      ],
      "text/plain": [
       "          ID  age   job  marital  education  default  balance  housing  loan  \\\n",
       "0      26110   56   0.0      1.0        3.0      0.0     1933      0.0   0.0   \n",
       "1      40576   31  11.0      1.0        1.0      0.0        3      0.0   0.0   \n",
       "2      15320   27   7.0      1.0        1.0      0.0      891      1.0   0.0   \n",
       "3      43962   57   4.0      0.0        2.0      0.0     3287      0.0   0.0   \n",
       "4      29842   31   9.0      1.0        1.0      0.0      119      1.0   0.0   \n",
       "...      ...  ...   ...      ...        ...      ...      ...      ...   ...   \n",
       "13559  23465   39   4.0      1.0        2.0      0.0       45      0.0   0.0   \n",
       "13560  11743   54   1.0      1.0        0.0      0.0     2281      1.0   0.0   \n",
       "13561  28292   35   5.0      1.0        0.0      0.0      285      1.0   0.0   \n",
       "13562  45163   29   0.0      2.0        1.0      0.0      464      0.0   0.0   \n",
       "13563  34839   29   0.0      1.0        1.0      0.0        2      1.0   0.0   \n",
       "\n",
       "       contact  day  month  duration  campaign  pdays  previous  poutcome  \\\n",
       "0          1.0   19    9.0        44         2     -1         0       3.0   \n",
       "1          0.0   20    5.0        91         2     -1         0       3.0   \n",
       "2          0.0   18    5.0       240         1     -1         0       3.0   \n",
       "3          0.0   22    6.0       867         1     84         3       2.0   \n",
       "4          0.0    4    3.0       380         1     -1         0       3.0   \n",
       "...        ...  ...    ...       ...       ...    ...       ...       ...   \n",
       "13559      0.0   28    1.0       148         4     -1         0       3.0   \n",
       "13560      2.0   20    6.0       158         1     -1         0       3.0   \n",
       "13561      0.0   29    4.0       136         1     -1         0       3.0   \n",
       "13562      0.0    9    9.0       208         2     91         3       2.0   \n",
       "13563      0.0    6    8.0       339         1    362         1       0.0   \n",
       "\n",
       "       subscribed  \n",
       "0             0.0  \n",
       "1             0.0  \n",
       "2             0.0  \n",
       "3             1.0  \n",
       "4             0.0  \n",
       "...           ...  \n",
       "13559         NaN  \n",
       "13560         NaN  \n",
       "13561         NaN  \n",
       "13562         NaN  \n",
       "13563         NaN  \n",
       "\n",
       "[45211 rows x 18 columns]"
      ]
     },
     "execution_count": 25,
     "metadata": {},
     "output_type": "execute_result"
    }
   ],
   "source": [
    "from sklearn.preprocessing import OrdinalEncoder\n",
    "OE=OrdinalEncoder()\n",
    "\n",
    "for i in df.columns:\n",
    "    if df[i].dtypes=='object':\n",
    "        df[i]=OE.fit_transform(df[i].values.reshape(-1,1))\n",
    "        \n",
    "df"
   ]
  },
  {
   "cell_type": "markdown",
   "id": "c5197730",
   "metadata": {},
   "source": [
    "in the dataset mejority of the columns are object datatype and we need to convert it into numarical datatype"
   ]
  },
  {
   "cell_type": "code",
   "execution_count": 27,
   "id": "cf891ca1",
   "metadata": {},
   "outputs": [
    {
     "data": {
      "image/png": "[encoded data removed]",
      "text/plain": [
       "<Figure size 1080x720 with 18 Axes>"
      ]
     },
     "metadata": {
      "needs_background": "light"
     },
     "output_type": "display_data"
    }
   ],
   "source": [
    "plt.figure(figsize=(15,10))\n",
    "\n",
    "p=1\n",
    "\n",
    "for i in df.columns:\n",
    "    if p<25:\n",
    "        plt.subplot(5,5,p)\n",
    "        sns.distplot(df[i])\n",
    "        plt.xlabel(i)\n",
    "        \n",
    "    p+=1\n",
    "    \n",
    "plt.show()"
   ]
  },
  {
   "cell_type": "markdown",
   "id": "31e86fc4",
   "metadata": {},
   "source": [
    "checking for the skewness of the all the columns "
   ]
  },
  {
   "cell_type": "code",
   "execution_count": 28,
   "id": "0d6cbffc",
   "metadata": {},
   "outputs": [
    {
     "data": {
      "text/html": [
       "<div>\n",
       "<style scoped>\n",
       "    .dataframe tbody tr th:only-of-type {\n",
       "        vertical-align: middle;\n",
       "    }\n",
       "\n",
       "    .dataframe tbody tr th {\n",
       "        vertical-align: top;\n",
       "    }\n",
       "\n",
       "    .dataframe thead th {\n",
       "        text-align: right;\n",
       "    }\n",
       "</style>\n",
       "<table border=\"1\" class=\"dataframe\">\n",
       "  <thead>\n",
       "    <tr style=\"text-align: right;\">\n",
       "      <th></th>\n",
       "      <th>ID</th>\n",
       "      <th>age</th>\n",
       "      <th>job</th>\n",
       "      <th>marital</th>\n",
       "      <th>education</th>\n",
       "      <th>default</th>\n",
       "      <th>balance</th>\n",
       "      <th>housing</th>\n",
       "      <th>loan</th>\n",
       "      <th>contact</th>\n",
       "      <th>day</th>\n",
       "      <th>month</th>\n",
       "      <th>duration</th>\n",
       "      <th>campaign</th>\n",
       "      <th>pdays</th>\n",
       "      <th>previous</th>\n",
       "      <th>poutcome</th>\n",
       "      <th>subscribed</th>\n",
       "    </tr>\n",
       "  </thead>\n",
       "  <tbody>\n",
       "    <tr>\n",
       "      <th>ID</th>\n",
       "      <td>1.000000</td>\n",
       "      <td>0.014973</td>\n",
       "      <td>0.063002</td>\n",
       "      <td>0.081781</td>\n",
       "      <td>0.094658</td>\n",
       "      <td>-0.053098</td>\n",
       "      <td>0.073639</td>\n",
       "      <td>-0.176143</td>\n",
       "      <td>-0.084240</td>\n",
       "      <td>-0.722366</td>\n",
       "      <td>-0.061465</td>\n",
       "      <td>-0.162055</td>\n",
       "      <td>0.013031</td>\n",
       "      <td>-0.102884</td>\n",
       "      <td>0.437729</td>\n",
       "      <td>0.271098</td>\n",
       "      <td>-0.445365</td>\n",
       "      <td>0.296663</td>\n",
       "    </tr>\n",
       "    <tr>\n",
       "      <th>age</th>\n",
       "      <td>0.014973</td>\n",
       "      <td>1.000000</td>\n",
       "      <td>-0.021868</td>\n",
       "      <td>-0.403240</td>\n",
       "      <td>-0.106807</td>\n",
       "      <td>-0.017879</td>\n",
       "      <td>0.097783</td>\n",
       "      <td>-0.185513</td>\n",
       "      <td>-0.015655</td>\n",
       "      <td>0.026221</td>\n",
       "      <td>-0.009120</td>\n",
       "      <td>-0.042357</td>\n",
       "      <td>-0.004648</td>\n",
       "      <td>0.004760</td>\n",
       "      <td>-0.023758</td>\n",
       "      <td>0.001288</td>\n",
       "      <td>0.007367</td>\n",
       "      <td>0.024538</td>\n",
       "    </tr>\n",
       "    <tr>\n",
       "      <th>job</th>\n",
       "      <td>0.063002</td>\n",
       "      <td>-0.021868</td>\n",
       "      <td>1.000000</td>\n",
       "      <td>0.062045</td>\n",
       "      <td>0.166707</td>\n",
       "      <td>-0.006853</td>\n",
       "      <td>0.018232</td>\n",
       "      <td>-0.125363</td>\n",
       "      <td>-0.033004</td>\n",
       "      <td>-0.082063</td>\n",
       "      <td>0.022856</td>\n",
       "      <td>-0.092870</td>\n",
       "      <td>0.004744</td>\n",
       "      <td>0.006839</td>\n",
       "      <td>-0.024455</td>\n",
       "      <td>-0.000911</td>\n",
       "      <td>0.011010</td>\n",
       "      <td>0.038921</td>\n",
       "    </tr>\n",
       "    <tr>\n",
       "      <th>marital</th>\n",
       "      <td>0.081781</td>\n",
       "      <td>-0.403240</td>\n",
       "      <td>0.062045</td>\n",
       "      <td>1.000000</td>\n",
       "      <td>0.108576</td>\n",
       "      <td>-0.007023</td>\n",
       "      <td>0.002122</td>\n",
       "      <td>-0.016096</td>\n",
       "      <td>-0.046893</td>\n",
       "      <td>-0.039201</td>\n",
       "      <td>-0.005261</td>\n",
       "      <td>-0.006991</td>\n",
       "      <td>0.011852</td>\n",
       "      <td>-0.008994</td>\n",
       "      <td>0.019172</td>\n",
       "      <td>0.014973</td>\n",
       "      <td>-0.016850</td>\n",
       "      <td>0.046043</td>\n",
       "    </tr>\n",
       "    <tr>\n",
       "      <th>education</th>\n",
       "      <td>0.094658</td>\n",
       "      <td>-0.106807</td>\n",
       "      <td>0.166707</td>\n",
       "      <td>0.108576</td>\n",
       "      <td>1.000000</td>\n",
       "      <td>-0.010718</td>\n",
       "      <td>0.064514</td>\n",
       "      <td>-0.090790</td>\n",
       "      <td>-0.048574</td>\n",
       "      <td>-0.110928</td>\n",
       "      <td>0.022671</td>\n",
       "      <td>-0.057304</td>\n",
       "      <td>0.001935</td>\n",
       "      <td>0.006255</td>\n",
       "      <td>0.000052</td>\n",
       "      <td>0.017570</td>\n",
       "      <td>-0.019361</td>\n",
       "      <td>0.066051</td>\n",
       "    </tr>\n",
       "    <tr>\n",
       "      <th>default</th>\n",
       "      <td>-0.053098</td>\n",
       "      <td>-0.017879</td>\n",
       "      <td>-0.006853</td>\n",
       "      <td>-0.007023</td>\n",
       "      <td>-0.010718</td>\n",
       "      <td>1.000000</td>\n",
       "      <td>-0.066745</td>\n",
       "      <td>-0.006025</td>\n",
       "      <td>0.077234</td>\n",
       "      <td>0.015404</td>\n",
       "      <td>0.009424</td>\n",
       "      <td>0.011486</td>\n",
       "      <td>-0.010021</td>\n",
       "      <td>0.016822</td>\n",
       "      <td>-0.029979</td>\n",
       "      <td>-0.018329</td>\n",
       "      <td>0.034898</td>\n",
       "      <td>-0.020168</td>\n",
       "    </tr>\n",
       "    <tr>\n",
       "      <th>balance</th>\n",
       "      <td>0.073639</td>\n",
       "      <td>0.097783</td>\n",
       "      <td>0.018232</td>\n",
       "      <td>0.002122</td>\n",
       "      <td>0.064514</td>\n",
       "      <td>-0.066745</td>\n",
       "      <td>1.000000</td>\n",
       "      <td>-0.068768</td>\n",
       "      <td>-0.084350</td>\n",
       "      <td>-0.027273</td>\n",
       "      <td>0.004503</td>\n",
       "      <td>0.019777</td>\n",
       "      <td>0.021560</td>\n",
       "      <td>-0.014578</td>\n",
       "      <td>0.003435</td>\n",
       "      <td>0.016674</td>\n",
       "      <td>-0.020967</td>\n",
       "      <td>0.050807</td>\n",
       "    </tr>\n",
       "    <tr>\n",
       "      <th>housing</th>\n",
       "      <td>-0.176143</td>\n",
       "      <td>-0.185513</td>\n",
       "      <td>-0.125363</td>\n",
       "      <td>-0.016096</td>\n",
       "      <td>-0.090790</td>\n",
       "      <td>-0.006025</td>\n",
       "      <td>-0.068768</td>\n",
       "      <td>1.000000</td>\n",
       "      <td>0.041323</td>\n",
       "      <td>0.188123</td>\n",
       "      <td>-0.027982</td>\n",
       "      <td>0.271481</td>\n",
       "      <td>0.005075</td>\n",
       "      <td>-0.023599</td>\n",
       "      <td>0.124178</td>\n",
       "      <td>0.037076</td>\n",
       "      <td>-0.099971</td>\n",
       "      <td>-0.141092</td>\n",
       "    </tr>\n",
       "    <tr>\n",
       "      <th>loan</th>\n",
       "      <td>-0.084240</td>\n",
       "      <td>-0.015655</td>\n",
       "      <td>-0.033004</td>\n",
       "      <td>-0.046893</td>\n",
       "      <td>-0.048574</td>\n",
       "      <td>0.077234</td>\n",
       "      <td>-0.084350</td>\n",
       "      <td>0.041323</td>\n",
       "      <td>1.000000</td>\n",
       "      <td>-0.010873</td>\n",
       "      <td>0.011370</td>\n",
       "      <td>0.022145</td>\n",
       "      <td>-0.012412</td>\n",
       "      <td>0.009980</td>\n",
       "      <td>-0.022754</td>\n",
       "      <td>-0.011043</td>\n",
       "      <td>0.015458</td>\n",
       "      <td>-0.072266</td>\n",
       "    </tr>\n",
       "    <tr>\n",
       "      <th>contact</th>\n",
       "      <td>-0.722366</td>\n",
       "      <td>0.026221</td>\n",
       "      <td>-0.082063</td>\n",
       "      <td>-0.039201</td>\n",
       "      <td>-0.110928</td>\n",
       "      <td>0.015404</td>\n",
       "      <td>-0.027273</td>\n",
       "      <td>0.188123</td>\n",
       "      <td>-0.010873</td>\n",
       "      <td>1.000000</td>\n",
       "      <td>-0.027936</td>\n",
       "      <td>0.361145</td>\n",
       "      <td>-0.020839</td>\n",
       "      <td>0.019614</td>\n",
       "      <td>-0.244816</td>\n",
       "      <td>-0.147811</td>\n",
       "      <td>0.272214</td>\n",
       "      <td>-0.150051</td>\n",
       "    </tr>\n",
       "    <tr>\n",
       "      <th>day</th>\n",
       "      <td>-0.061465</td>\n",
       "      <td>-0.009120</td>\n",
       "      <td>0.022856</td>\n",
       "      <td>-0.005261</td>\n",
       "      <td>0.022671</td>\n",
       "      <td>0.009424</td>\n",
       "      <td>0.004503</td>\n",
       "      <td>-0.027982</td>\n",
       "      <td>0.011370</td>\n",
       "      <td>-0.027936</td>\n",
       "      <td>1.000000</td>\n",
       "      <td>-0.006028</td>\n",
       "      <td>-0.030206</td>\n",
       "      <td>0.162490</td>\n",
       "      <td>-0.093044</td>\n",
       "      <td>-0.051710</td>\n",
       "      <td>0.083460</td>\n",
       "      <td>-0.029600</td>\n",
       "    </tr>\n",
       "    <tr>\n",
       "      <th>month</th>\n",
       "      <td>-0.162055</td>\n",
       "      <td>-0.042357</td>\n",
       "      <td>-0.092870</td>\n",
       "      <td>-0.006991</td>\n",
       "      <td>-0.057304</td>\n",
       "      <td>0.011486</td>\n",
       "      <td>0.019777</td>\n",
       "      <td>0.271481</td>\n",
       "      <td>0.022145</td>\n",
       "      <td>0.361145</td>\n",
       "      <td>-0.006028</td>\n",
       "      <td>1.000000</td>\n",
       "      <td>0.006314</td>\n",
       "      <td>-0.110031</td>\n",
       "      <td>0.033065</td>\n",
       "      <td>0.022727</td>\n",
       "      <td>-0.033038</td>\n",
       "      <td>-0.028088</td>\n",
       "    </tr>\n",
       "    <tr>\n",
       "      <th>duration</th>\n",
       "      <td>0.013031</td>\n",
       "      <td>-0.004648</td>\n",
       "      <td>0.004744</td>\n",
       "      <td>0.011852</td>\n",
       "      <td>0.001935</td>\n",
       "      <td>-0.010021</td>\n",
       "      <td>0.021560</td>\n",
       "      <td>0.005075</td>\n",
       "      <td>-0.012412</td>\n",
       "      <td>-0.020839</td>\n",
       "      <td>-0.030206</td>\n",
       "      <td>0.006314</td>\n",
       "      <td>1.000000</td>\n",
       "      <td>-0.084570</td>\n",
       "      <td>-0.001565</td>\n",
       "      <td>0.001203</td>\n",
       "      <td>0.010925</td>\n",
       "      <td>0.389838</td>\n",
       "    </tr>\n",
       "    <tr>\n",
       "      <th>campaign</th>\n",
       "      <td>-0.102884</td>\n",
       "      <td>0.004760</td>\n",
       "      <td>0.006839</td>\n",
       "      <td>-0.008994</td>\n",
       "      <td>0.006255</td>\n",
       "      <td>0.016822</td>\n",
       "      <td>-0.014578</td>\n",
       "      <td>-0.023599</td>\n",
       "      <td>0.009980</td>\n",
       "      <td>0.019614</td>\n",
       "      <td>0.162490</td>\n",
       "      <td>-0.110031</td>\n",
       "      <td>-0.084570</td>\n",
       "      <td>1.000000</td>\n",
       "      <td>-0.088628</td>\n",
       "      <td>-0.032855</td>\n",
       "      <td>0.101588</td>\n",
       "      <td>-0.070607</td>\n",
       "    </tr>\n",
       "    <tr>\n",
       "      <th>pdays</th>\n",
       "      <td>0.437729</td>\n",
       "      <td>-0.023758</td>\n",
       "      <td>-0.024455</td>\n",
       "      <td>0.019172</td>\n",
       "      <td>0.000052</td>\n",
       "      <td>-0.029979</td>\n",
       "      <td>0.003435</td>\n",
       "      <td>0.124178</td>\n",
       "      <td>-0.022754</td>\n",
       "      <td>-0.244816</td>\n",
       "      <td>-0.093044</td>\n",
       "      <td>0.033065</td>\n",
       "      <td>-0.001565</td>\n",
       "      <td>-0.088628</td>\n",
       "      <td>1.000000</td>\n",
       "      <td>0.454820</td>\n",
       "      <td>-0.858362</td>\n",
       "      <td>0.108290</td>\n",
       "    </tr>\n",
       "    <tr>\n",
       "      <th>previous</th>\n",
       "      <td>0.271098</td>\n",
       "      <td>0.001288</td>\n",
       "      <td>-0.000911</td>\n",
       "      <td>0.014973</td>\n",
       "      <td>0.017570</td>\n",
       "      <td>-0.018329</td>\n",
       "      <td>0.016674</td>\n",
       "      <td>0.037076</td>\n",
       "      <td>-0.011043</td>\n",
       "      <td>-0.147811</td>\n",
       "      <td>-0.051710</td>\n",
       "      <td>0.022727</td>\n",
       "      <td>0.001203</td>\n",
       "      <td>-0.032855</td>\n",
       "      <td>0.454820</td>\n",
       "      <td>1.000000</td>\n",
       "      <td>-0.489752</td>\n",
       "      <td>0.088081</td>\n",
       "    </tr>\n",
       "    <tr>\n",
       "      <th>poutcome</th>\n",
       "      <td>-0.445365</td>\n",
       "      <td>0.007367</td>\n",
       "      <td>0.011010</td>\n",
       "      <td>-0.016850</td>\n",
       "      <td>-0.019361</td>\n",
       "      <td>0.034898</td>\n",
       "      <td>-0.020967</td>\n",
       "      <td>-0.099971</td>\n",
       "      <td>0.015458</td>\n",
       "      <td>0.272214</td>\n",
       "      <td>0.083460</td>\n",
       "      <td>-0.033038</td>\n",
       "      <td>0.010925</td>\n",
       "      <td>0.101588</td>\n",
       "      <td>-0.858362</td>\n",
       "      <td>-0.489752</td>\n",
       "      <td>1.000000</td>\n",
       "      <td>-0.080895</td>\n",
       "    </tr>\n",
       "    <tr>\n",
       "      <th>subscribed</th>\n",
       "      <td>0.296663</td>\n",
       "      <td>0.024538</td>\n",
       "      <td>0.038921</td>\n",
       "      <td>0.046043</td>\n",
       "      <td>0.066051</td>\n",
       "      <td>-0.020168</td>\n",
       "      <td>0.050807</td>\n",
       "      <td>-0.141092</td>\n",
       "      <td>-0.072266</td>\n",
       "      <td>-0.150051</td>\n",
       "      <td>-0.029600</td>\n",
       "      <td>-0.028088</td>\n",
       "      <td>0.389838</td>\n",
       "      <td>-0.070607</td>\n",
       "      <td>0.108290</td>\n",
       "      <td>0.088081</td>\n",
       "      <td>-0.080895</td>\n",
       "      <td>1.000000</td>\n",
       "    </tr>\n",
       "  </tbody>\n",
       "</table>\n",
       "</div>"
      ],
      "text/plain": [
       "                  ID       age       job   marital  education   default  \\\n",
       "ID          1.000000  0.014973  0.063002  0.081781   0.094658 -0.053098   \n",
       "age         0.014973  1.000000 -0.021868 -0.403240  -0.106807 -0.017879   \n",
       "job         0.063002 -0.021868  1.000000  0.062045   0.166707 -0.006853   \n",
       "marital     0.081781 -0.403240  0.062045  1.000000   0.108576 -0.007023   \n",
       "education   0.094658 -0.106807  0.166707  0.108576   1.000000 -0.010718   \n",
       "default    -0.053098 -0.017879 -0.006853 -0.007023  -0.010718  1.000000   \n",
       "balance     0.073639  0.097783  0.018232  0.002122   0.064514 -0.066745   \n",
       "housing    -0.176143 -0.185513 -0.125363 -0.016096  -0.090790 -0.006025   \n",
       "loan       -0.084240 -0.015655 -0.033004 -0.046893  -0.048574  0.077234   \n",
       "contact    -0.722366  0.026221 -0.082063 -0.039201  -0.110928  0.015404   \n",
       "day        -0.061465 -0.009120  0.022856 -0.005261   0.022671  0.009424   \n",
       "month      -0.162055 -0.042357 -0.092870 -0.006991  -0.057304  0.011486   \n",
       "duration    0.013031 -0.004648  0.004744  0.011852   0.001935 -0.010021   \n",
       "campaign   -0.102884  0.004760  0.006839 -0.008994   0.006255  0.016822   \n",
       "pdays       0.437729 -0.023758 -0.024455  0.019172   0.000052 -0.029979   \n",
       "previous    0.271098  0.001288 -0.000911  0.014973   0.017570 -0.018329   \n",
       "poutcome   -0.445365  0.007367  0.011010 -0.016850  -0.019361  0.034898   \n",
       "subscribed  0.296663  0.024538  0.038921  0.046043   0.066051 -0.020168   \n",
       "\n",
       "             balance   housing      loan   contact       day     month  \\\n",
       "ID          0.073639 -0.176143 -0.084240 -0.722366 -0.061465 -0.162055   \n",
       "age         0.097783 -0.185513 -0.015655  0.026221 -0.009120 -0.042357   \n",
       "job         0.018232 -0.125363 -0.033004 -0.082063  0.022856 -0.092870   \n",
       "marital     0.002122 -0.016096 -0.046893 -0.039201 -0.005261 -0.006991   \n",
       "education   0.064514 -0.090790 -0.048574 -0.110928  0.022671 -0.057304   \n",
       "default    -0.066745 -0.006025  0.077234  0.015404  0.009424  0.011486   \n",
       "balance     1.000000 -0.068768 -0.084350 -0.027273  0.004503  0.019777   \n",
       "housing    -0.068768  1.000000  0.041323  0.188123 -0.027982  0.271481   \n",
       "loan       -0.084350  0.041323  1.000000 -0.010873  0.011370  0.022145   \n",
       "contact    -0.027273  0.188123 -0.010873  1.000000 -0.027936  0.361145   \n",
       "day         0.004503 -0.027982  0.011370 -0.027936  1.000000 -0.006028   \n",
       "month       0.019777  0.271481  0.022145  0.361145 -0.006028  1.000000   \n",
       "duration    0.021560  0.005075 -0.012412 -0.020839 -0.030206  0.006314   \n",
       "campaign   -0.014578 -0.023599  0.009980  0.019614  0.162490 -0.110031   \n",
       "pdays       0.003435  0.124178 -0.022754 -0.244816 -0.093044  0.033065   \n",
       "previous    0.016674  0.037076 -0.011043 -0.147811 -0.051710  0.022727   \n",
       "poutcome   -0.020967 -0.099971  0.015458  0.272214  0.083460 -0.033038   \n",
       "subscribed  0.050807 -0.141092 -0.072266 -0.150051 -0.029600 -0.028088   \n",
       "\n",
       "            duration  campaign     pdays  previous  poutcome  subscribed  \n",
       "ID          0.013031 -0.102884  0.437729  0.271098 -0.445365    0.296663  \n",
       "age        -0.004648  0.004760 -0.023758  0.001288  0.007367    0.024538  \n",
       "job         0.004744  0.006839 -0.024455 -0.000911  0.011010    0.038921  \n",
       "marital     0.011852 -0.008994  0.019172  0.014973 -0.016850    0.046043  \n",
       "education   0.001935  0.006255  0.000052  0.017570 -0.019361    0.066051  \n",
       "default    -0.010021  0.016822 -0.029979 -0.018329  0.034898   -0.020168  \n",
       "balance     0.021560 -0.014578  0.003435  0.016674 -0.020967    0.050807  \n",
       "housing     0.005075 -0.023599  0.124178  0.037076 -0.099971   -0.141092  \n",
       "loan       -0.012412  0.009980 -0.022754 -0.011043  0.015458   -0.072266  \n",
       "contact    -0.020839  0.019614 -0.244816 -0.147811  0.272214   -0.150051  \n",
       "day        -0.030206  0.162490 -0.093044 -0.051710  0.083460   -0.029600  \n",
       "month       0.006314 -0.110031  0.033065  0.022727 -0.033038   -0.028088  \n",
       "duration    1.000000 -0.084570 -0.001565  0.001203  0.010925    0.389838  \n",
       "campaign   -0.084570  1.000000 -0.088628 -0.032855  0.101588   -0.070607  \n",
       "pdays      -0.001565 -0.088628  1.000000  0.454820 -0.858362    0.108290  \n",
       "previous    0.001203 -0.032855  0.454820  1.000000 -0.489752    0.088081  \n",
       "poutcome    0.010925  0.101588 -0.858362 -0.489752  1.000000   -0.080895  \n",
       "subscribed  0.389838 -0.070607  0.108290  0.088081 -0.080895    1.000000  "
      ]
     },
     "execution_count": 28,
     "metadata": {},
     "output_type": "execute_result"
    }
   ],
   "source": [
    "df.corr()"
   ]
  },
  {
   "cell_type": "code",
   "execution_count": 29,
   "id": "0d84ad3a",
   "metadata": {},
   "outputs": [
    {
     "data": {
      "text/plain": [
       "<AxesSubplot:>"
      ]
     },
     "execution_count": 29,
     "metadata": {},
     "output_type": "execute_result"
    },
    {
     "data": {
      "image/png": "[encoded data removed]",
      "text/plain": [
       "<Figure size 1440x720 with 2 Axes>"
      ]
     },
     "metadata": {
      "needs_background": "light"
     },
     "output_type": "display_data"
    }
   ],
   "source": [
    "plt.figure(figsize=(20,10))\n",
    "sns.heatmap(data=df.corr(),annot=True,fmt='0.2f',linecolor='black',linewidth=0.2,cmap='YlGnBu')"
   ]
  },
  {
   "cell_type": "markdown",
   "id": "4df6c4bf",
   "metadata": {},
   "source": [
    "duration column is highly positive co reletion with the target column\n",
    "\n",
    "some columns like housing,contact,loan are negative co reletion with the target column"
   ]
  },
  {
   "cell_type": "code",
   "execution_count": 30,
   "id": "81765a22",
   "metadata": {},
   "outputs": [
    {
     "data": {
      "text/plain": [
       "ID                0\n",
       "age               0\n",
       "job               0\n",
       "marital           0\n",
       "education         0\n",
       "default           0\n",
       "balance           0\n",
       "housing           0\n",
       "loan              0\n",
       "contact           0\n",
       "day               0\n",
       "month             0\n",
       "duration          0\n",
       "campaign          0\n",
       "pdays             0\n",
       "previous          0\n",
       "poutcome          0\n",
       "subscribed    13564\n",
       "dtype: int64"
      ]
     },
     "execution_count": 30,
     "metadata": {},
     "output_type": "execute_result"
    }
   ],
   "source": [
    "df.isnull().sum()"
   ]
  },
  {
   "cell_type": "markdown",
   "id": "207a74b8",
   "metadata": {},
   "source": [
    "subscribed columns has 13564 missing values...\n",
    "we need to drop the rows "
   ]
  },
  {
   "cell_type": "code",
   "execution_count": 31,
   "id": "c336a8b6",
   "metadata": {},
   "outputs": [],
   "source": [
    "df.dropna(inplace=True)"
   ]
  },
  {
   "cell_type": "markdown",
   "id": "61ef852f",
   "metadata": {},
   "source": [
    "using the pandas drop method to drop the missing value rows"
   ]
  },
  {
   "cell_type": "code",
   "execution_count": 33,
   "id": "4da58e99",
   "metadata": {},
   "outputs": [
    {
     "data": {
      "text/plain": [
       "ID            0\n",
       "age           0\n",
       "job           0\n",
       "marital       0\n",
       "education     0\n",
       "default       0\n",
       "balance       0\n",
       "housing       0\n",
       "loan          0\n",
       "contact       0\n",
       "day           0\n",
       "month         0\n",
       "duration      0\n",
       "campaign      0\n",
       "pdays         0\n",
       "previous      0\n",
       "poutcome      0\n",
       "subscribed    0\n",
       "dtype: int64"
      ]
     },
     "execution_count": 33,
     "metadata": {},
     "output_type": "execute_result"
    }
   ],
   "source": [
    "df.isnull().sum()"
   ]
  },
  {
   "cell_type": "markdown",
   "id": "933c2f61",
   "metadata": {},
   "source": [
    "now there is no missing values in the dataset"
   ]
  },
  {
   "cell_type": "code",
   "execution_count": 34,
   "id": "56872398",
   "metadata": {},
   "outputs": [
    {
     "data": {
      "text/html": [
       "<div>\n",
       "<style scoped>\n",
       "    .dataframe tbody tr th:only-of-type {\n",
       "        vertical-align: middle;\n",
       "    }\n",
       "\n",
       "    .dataframe tbody tr th {\n",
       "        vertical-align: top;\n",
       "    }\n",
       "\n",
       "    .dataframe thead th {\n",
       "        text-align: right;\n",
       "    }\n",
       "</style>\n",
       "<table border=\"1\" class=\"dataframe\">\n",
       "  <thead>\n",
       "    <tr style=\"text-align: right;\">\n",
       "      <th></th>\n",
       "      <th>ID</th>\n",
       "      <th>age</th>\n",
       "      <th>job</th>\n",
       "      <th>marital</th>\n",
       "      <th>education</th>\n",
       "      <th>default</th>\n",
       "      <th>balance</th>\n",
       "      <th>housing</th>\n",
       "      <th>loan</th>\n",
       "      <th>contact</th>\n",
       "      <th>day</th>\n",
       "      <th>month</th>\n",
       "      <th>duration</th>\n",
       "      <th>campaign</th>\n",
       "      <th>pdays</th>\n",
       "      <th>previous</th>\n",
       "      <th>poutcome</th>\n",
       "    </tr>\n",
       "  </thead>\n",
       "  <tbody>\n",
       "    <tr>\n",
       "      <th>0</th>\n",
       "      <td>26110</td>\n",
       "      <td>56</td>\n",
       "      <td>0.0</td>\n",
       "      <td>1.0</td>\n",
       "      <td>3.0</td>\n",
       "      <td>0.0</td>\n",
       "      <td>1933</td>\n",
       "      <td>0.0</td>\n",
       "      <td>0.0</td>\n",
       "      <td>1.0</td>\n",
       "      <td>19</td>\n",
       "      <td>9.0</td>\n",
       "      <td>44</td>\n",
       "      <td>2</td>\n",
       "      <td>-1</td>\n",
       "      <td>0</td>\n",
       "      <td>3.0</td>\n",
       "    </tr>\n",
       "    <tr>\n",
       "      <th>1</th>\n",
       "      <td>40576</td>\n",
       "      <td>31</td>\n",
       "      <td>11.0</td>\n",
       "      <td>1.0</td>\n",
       "      <td>1.0</td>\n",
       "      <td>0.0</td>\n",
       "      <td>3</td>\n",
       "      <td>0.0</td>\n",
       "      <td>0.0</td>\n",
       "      <td>0.0</td>\n",
       "      <td>20</td>\n",
       "      <td>5.0</td>\n",
       "      <td>91</td>\n",
       "      <td>2</td>\n",
       "      <td>-1</td>\n",
       "      <td>0</td>\n",
       "      <td>3.0</td>\n",
       "    </tr>\n",
       "    <tr>\n",
       "      <th>2</th>\n",
       "      <td>15320</td>\n",
       "      <td>27</td>\n",
       "      <td>7.0</td>\n",
       "      <td>1.0</td>\n",
       "      <td>1.0</td>\n",
       "      <td>0.0</td>\n",
       "      <td>891</td>\n",
       "      <td>1.0</td>\n",
       "      <td>0.0</td>\n",
       "      <td>0.0</td>\n",
       "      <td>18</td>\n",
       "      <td>5.0</td>\n",
       "      <td>240</td>\n",
       "      <td>1</td>\n",
       "      <td>-1</td>\n",
       "      <td>0</td>\n",
       "      <td>3.0</td>\n",
       "    </tr>\n",
       "    <tr>\n",
       "      <th>3</th>\n",
       "      <td>43962</td>\n",
       "      <td>57</td>\n",
       "      <td>4.0</td>\n",
       "      <td>0.0</td>\n",
       "      <td>2.0</td>\n",
       "      <td>0.0</td>\n",
       "      <td>3287</td>\n",
       "      <td>0.0</td>\n",
       "      <td>0.0</td>\n",
       "      <td>0.0</td>\n",
       "      <td>22</td>\n",
       "      <td>6.0</td>\n",
       "      <td>867</td>\n",
       "      <td>1</td>\n",
       "      <td>84</td>\n",
       "      <td>3</td>\n",
       "      <td>2.0</td>\n",
       "    </tr>\n",
       "    <tr>\n",
       "      <th>4</th>\n",
       "      <td>29842</td>\n",
       "      <td>31</td>\n",
       "      <td>9.0</td>\n",
       "      <td>1.0</td>\n",
       "      <td>1.0</td>\n",
       "      <td>0.0</td>\n",
       "      <td>119</td>\n",
       "      <td>1.0</td>\n",
       "      <td>0.0</td>\n",
       "      <td>0.0</td>\n",
       "      <td>4</td>\n",
       "      <td>3.0</td>\n",
       "      <td>380</td>\n",
       "      <td>1</td>\n",
       "      <td>-1</td>\n",
       "      <td>0</td>\n",
       "      <td>3.0</td>\n",
       "    </tr>\n",
       "    <tr>\n",
       "      <th>...</th>\n",
       "      <td>...</td>\n",
       "      <td>...</td>\n",
       "      <td>...</td>\n",
       "      <td>...</td>\n",
       "      <td>...</td>\n",
       "      <td>...</td>\n",
       "      <td>...</td>\n",
       "      <td>...</td>\n",
       "      <td>...</td>\n",
       "      <td>...</td>\n",
       "      <td>...</td>\n",
       "      <td>...</td>\n",
       "      <td>...</td>\n",
       "      <td>...</td>\n",
       "      <td>...</td>\n",
       "      <td>...</td>\n",
       "      <td>...</td>\n",
       "    </tr>\n",
       "    <tr>\n",
       "      <th>31642</th>\n",
       "      <td>36483</td>\n",
       "      <td>29</td>\n",
       "      <td>4.0</td>\n",
       "      <td>2.0</td>\n",
       "      <td>2.0</td>\n",
       "      <td>0.0</td>\n",
       "      <td>0</td>\n",
       "      <td>1.0</td>\n",
       "      <td>0.0</td>\n",
       "      <td>0.0</td>\n",
       "      <td>12</td>\n",
       "      <td>8.0</td>\n",
       "      <td>116</td>\n",
       "      <td>2</td>\n",
       "      <td>-1</td>\n",
       "      <td>0</td>\n",
       "      <td>3.0</td>\n",
       "    </tr>\n",
       "    <tr>\n",
       "      <th>31643</th>\n",
       "      <td>40178</td>\n",
       "      <td>53</td>\n",
       "      <td>4.0</td>\n",
       "      <td>0.0</td>\n",
       "      <td>2.0</td>\n",
       "      <td>0.0</td>\n",
       "      <td>380</td>\n",
       "      <td>0.0</td>\n",
       "      <td>1.0</td>\n",
       "      <td>0.0</td>\n",
       "      <td>5</td>\n",
       "      <td>6.0</td>\n",
       "      <td>438</td>\n",
       "      <td>2</td>\n",
       "      <td>-1</td>\n",
       "      <td>0</td>\n",
       "      <td>3.0</td>\n",
       "    </tr>\n",
       "    <tr>\n",
       "      <th>31644</th>\n",
       "      <td>19710</td>\n",
       "      <td>32</td>\n",
       "      <td>4.0</td>\n",
       "      <td>2.0</td>\n",
       "      <td>2.0</td>\n",
       "      <td>0.0</td>\n",
       "      <td>312</td>\n",
       "      <td>0.0</td>\n",
       "      <td>0.0</td>\n",
       "      <td>0.0</td>\n",
       "      <td>7</td>\n",
       "      <td>1.0</td>\n",
       "      <td>37</td>\n",
       "      <td>3</td>\n",
       "      <td>-1</td>\n",
       "      <td>0</td>\n",
       "      <td>3.0</td>\n",
       "    </tr>\n",
       "    <tr>\n",
       "      <th>31645</th>\n",
       "      <td>38556</td>\n",
       "      <td>57</td>\n",
       "      <td>9.0</td>\n",
       "      <td>1.0</td>\n",
       "      <td>1.0</td>\n",
       "      <td>0.0</td>\n",
       "      <td>225</td>\n",
       "      <td>1.0</td>\n",
       "      <td>0.0</td>\n",
       "      <td>1.0</td>\n",
       "      <td>15</td>\n",
       "      <td>8.0</td>\n",
       "      <td>22</td>\n",
       "      <td>7</td>\n",
       "      <td>337</td>\n",
       "      <td>12</td>\n",
       "      <td>0.0</td>\n",
       "    </tr>\n",
       "    <tr>\n",
       "      <th>31646</th>\n",
       "      <td>14156</td>\n",
       "      <td>55</td>\n",
       "      <td>4.0</td>\n",
       "      <td>0.0</td>\n",
       "      <td>1.0</td>\n",
       "      <td>0.0</td>\n",
       "      <td>204</td>\n",
       "      <td>1.0</td>\n",
       "      <td>0.0</td>\n",
       "      <td>0.0</td>\n",
       "      <td>11</td>\n",
       "      <td>5.0</td>\n",
       "      <td>1973</td>\n",
       "      <td>2</td>\n",
       "      <td>-1</td>\n",
       "      <td>0</td>\n",
       "      <td>3.0</td>\n",
       "    </tr>\n",
       "  </tbody>\n",
       "</table>\n",
       "<p>31647 rows × 17 columns</p>\n",
       "</div>"
      ],
      "text/plain": [
       "          ID  age   job  marital  education  default  balance  housing  loan  \\\n",
       "0      26110   56   0.0      1.0        3.0      0.0     1933      0.0   0.0   \n",
       "1      40576   31  11.0      1.0        1.0      0.0        3      0.0   0.0   \n",
       "2      15320   27   7.0      1.0        1.0      0.0      891      1.0   0.0   \n",
       "3      43962   57   4.0      0.0        2.0      0.0     3287      0.0   0.0   \n",
       "4      29842   31   9.0      1.0        1.0      0.0      119      1.0   0.0   \n",
       "...      ...  ...   ...      ...        ...      ...      ...      ...   ...   \n",
       "31642  36483   29   4.0      2.0        2.0      0.0        0      1.0   0.0   \n",
       "31643  40178   53   4.0      0.0        2.0      0.0      380      0.0   1.0   \n",
       "31644  19710   32   4.0      2.0        2.0      0.0      312      0.0   0.0   \n",
       "31645  38556   57   9.0      1.0        1.0      0.0      225      1.0   0.0   \n",
       "31646  14156   55   4.0      0.0        1.0      0.0      204      1.0   0.0   \n",
       "\n",
       "       contact  day  month  duration  campaign  pdays  previous  poutcome  \n",
       "0          1.0   19    9.0        44         2     -1         0       3.0  \n",
       "1          0.0   20    5.0        91         2     -1         0       3.0  \n",
       "2          0.0   18    5.0       240         1     -1         0       3.0  \n",
       "3          0.0   22    6.0       867         1     84         3       2.0  \n",
       "4          0.0    4    3.0       380         1     -1         0       3.0  \n",
       "...        ...  ...    ...       ...       ...    ...       ...       ...  \n",
       "31642      0.0   12    8.0       116         2     -1         0       3.0  \n",
       "31643      0.0    5    6.0       438         2     -1         0       3.0  \n",
       "31644      0.0    7    1.0        37         3     -1         0       3.0  \n",
       "31645      1.0   15    8.0        22         7    337        12       0.0  \n",
       "31646      0.0   11    5.0      1973         2     -1         0       3.0  \n",
       "\n",
       "[31647 rows x 17 columns]"
      ]
     },
     "execution_count": 34,
     "metadata": {},
     "output_type": "execute_result"
    }
   ],
   "source": [
    "x=df.iloc[:,:-1]\n",
    "x"
   ]
  },
  {
   "cell_type": "markdown",
   "id": "1728936e",
   "metadata": {},
   "source": [
    "separating the independent variables as x "
   ]
  },
  {
   "cell_type": "code",
   "execution_count": 35,
   "id": "c5a196d5",
   "metadata": {},
   "outputs": [
    {
     "data": {
      "text/plain": [
       "0        0.0\n",
       "1        0.0\n",
       "2        0.0\n",
       "3        1.0\n",
       "4        0.0\n",
       "        ... \n",
       "31642    0.0\n",
       "31643    1.0\n",
       "31644    0.0\n",
       "31645    0.0\n",
       "31646    1.0\n",
       "Name: subscribed, Length: 31647, dtype: float64"
      ]
     },
     "execution_count": 35,
     "metadata": {},
     "output_type": "execute_result"
    }
   ],
   "source": [
    "y=df.iloc[:,-1]\n",
    "y"
   ]
  },
  {
   "cell_type": "markdown",
   "id": "abd1c264",
   "metadata": {},
   "source": [
    "separated the target varibale as y"
   ]
  },
  {
   "cell_type": "code",
   "execution_count": 36,
   "id": "01168791",
   "metadata": {},
   "outputs": [
    {
     "data": {
      "text/plain": [
       "0.0    27932\n",
       "1.0     3715\n",
       "Name: subscribed, dtype: int64"
      ]
     },
     "execution_count": 36,
     "metadata": {},
     "output_type": "execute_result"
    }
   ],
   "source": [
    "y.value_counts()"
   ]
  },
  {
   "cell_type": "markdown",
   "id": "d7bad4e9",
   "metadata": {},
   "source": [
    "we need to resample the target columns for increasing the number of cases in the dataset need to balance"
   ]
  },
  {
   "cell_type": "code",
   "execution_count": 37,
   "id": "3a5c269c",
   "metadata": {},
   "outputs": [],
   "source": [
    "from imblearn.over_sampling import SMOTE\n",
    "sm=SMOTE()\n",
    "x,y=sm.fit_resample(x,y)"
   ]
  },
  {
   "cell_type": "markdown",
   "id": "2e1539e1",
   "metadata": {},
   "source": [
    "using SMOTE technique to balance the dataset"
   ]
  },
  {
   "cell_type": "code",
   "execution_count": 38,
   "id": "ce8ba048",
   "metadata": {},
   "outputs": [
    {
     "data": {
      "text/plain": [
       "0.0    27932\n",
       "1.0    27932\n",
       "Name: subscribed, dtype: int64"
      ]
     },
     "execution_count": 38,
     "metadata": {},
     "output_type": "execute_result"
    }
   ],
   "source": [
    "y.value_counts()"
   ]
  },
  {
   "cell_type": "markdown",
   "id": "64dc7c2c",
   "metadata": {},
   "source": [
    "now we can see that the target column is balanced"
   ]
  },
  {
   "cell_type": "markdown",
   "id": "7fe8d096",
   "metadata": {},
   "source": [
    "# Modelling"
   ]
  },
  {
   "cell_type": "code",
   "execution_count": 39,
   "id": "68678d5f",
   "metadata": {},
   "outputs": [],
   "source": [
    "from sklearn.tree import DecisionTreeClassifier\n",
    "from sklearn.model_selection import train_test_split\n",
    "from sklearn.metrics import accuracy_score,classification_report,confusion_matrix"
   ]
  },
  {
   "cell_type": "markdown",
   "id": "7e96665f",
   "metadata": {},
   "source": [
    "since the target varible is binary values its an Binary Classification model\n",
    "\n",
    "importing the DecisionTreeClassifier and accuracy_score,confusion_matrix"
   ]
  },
  {
   "cell_type": "code",
   "execution_count": 40,
   "id": "b70b9678",
   "metadata": {},
   "outputs": [
    {
     "name": "stdout",
     "output_type": "stream",
     "text": [
      "Best accuracy score is  0.9288782816229116 at the random state of  503\n"
     ]
    }
   ],
   "source": [
    "maxAccu=0\n",
    "maxRs=0\n",
    "\n",
    "for i in range(0,1000):\n",
    "    x_train,x_test,y_train,y_test=train_test_split(x,y,test_size=0.30,random_state=i)\n",
    "    dtc=DecisionTreeClassifier()\n",
    "    dtc.fit(x_train,y_train)\n",
    "    pred=dtc.predict(x_test)\n",
    "    accu=accuracy_score(y_test,pred)\n",
    "    if accu>maxAccu:\n",
    "        maxAccu=accu\n",
    "        maxRs=i\n",
    "        \n",
    "        \n",
    "print('Best accuracy score is ',maxAccu,'at the random state of ',maxRs)"
   ]
  },
  {
   "cell_type": "markdown",
   "id": "c17fc820",
   "metadata": {},
   "source": [
    "performing the model for best Random state for model"
   ]
  },
  {
   "cell_type": "code",
   "execution_count": 41,
   "id": "1360a9d3",
   "metadata": {},
   "outputs": [],
   "source": [
    "x_train,x_test,y_train,y_test=train_test_split(x,y,test_size=0.30,random_state=maxRs)"
   ]
  },
  {
   "cell_type": "markdown",
   "id": "ca52135a",
   "metadata": {},
   "source": [
    "splitting the model for traing and splitting to perform the model"
   ]
  },
  {
   "cell_type": "code",
   "execution_count": 42,
   "id": "ee1c19af",
   "metadata": {},
   "outputs": [],
   "source": [
    "from sklearn.svm import SVC\n",
    "from sklearn.ensemble import RandomForestClassifier,ExtraTreesClassifier\n",
    "from sklearn.ensemble import GradientBoostingClassifier,BaggingClassifier,AdaBoostClassifier\n"
   ]
  },
  {
   "cell_type": "markdown",
   "id": "10f652f0",
   "metadata": {},
   "source": [
    "importing all important lybraries to find the best performing the best model"
   ]
  },
  {
   "cell_type": "code",
   "execution_count": 43,
   "id": "44933e4e",
   "metadata": {},
   "outputs": [
    {
     "name": "stdout",
     "output_type": "stream",
     "text": [
      "Accuracy score on test data 82.12410501193318\n",
      "Accuracy score on train data 82.18596563011457\n",
      "Classification report  \n",
      "               precision    recall  f1-score   support\n",
      "\n",
      "         0.0       0.82      0.83      0.82      8372\n",
      "         1.0       0.83      0.81      0.82      8388\n",
      "\n",
      "    accuracy                           0.82     16760\n",
      "   macro avg       0.82      0.82      0.82     16760\n",
      "weighted avg       0.82      0.82      0.82     16760\n",
      "\n",
      "Confusion matrix  \n",
      " [[6940 1432]\n",
      " [1564 6824]]\n"
     ]
    }
   ],
   "source": [
    "svc=SVC()\n",
    "svc.fit(x_train,y_train)\n",
    "predsvc=svc.predict(x_test)\n",
    "predsvc_train=svc.predict(x_train)\n",
    "print('Accuracy score on test data',accuracy_score(y_test,predsvc)*100)\n",
    "print('Accuracy score on train data',accuracy_score(y_train,predsvc_train)*100)\n",
    "print('Classification report ','\\n',classification_report(y_test,predsvc))\n",
    "print('Confusion matrix ','\\n',confusion_matrix(y_test,predsvc))"
   ]
  },
  {
   "cell_type": "markdown",
   "id": "ee8322f5",
   "metadata": {},
   "source": [
    "with support vector mission the accuracy score is 82%"
   ]
  },
  {
   "cell_type": "code",
   "execution_count": 44,
   "id": "27f218a9",
   "metadata": {},
   "outputs": [
    {
     "name": "stdout",
     "output_type": "stream",
     "text": [
      "RandomForestClassifier\n",
      "Accuracy score on test data 95.30429594272076\n",
      "Accuracy score on train data 100.0\n",
      "Classification report  \n",
      "               precision    recall  f1-score   support\n",
      "\n",
      "         0.0       0.96      0.95      0.95      8372\n",
      "         1.0       0.95      0.96      0.95      8388\n",
      "\n",
      "    accuracy                           0.95     16760\n",
      "   macro avg       0.95      0.95      0.95     16760\n",
      "weighted avg       0.95      0.95      0.95     16760\n",
      "\n",
      "Confusion matrix  \n",
      " [[7914  458]\n",
      " [ 329 8059]]\n",
      "\n",
      "\n",
      "ExtraTreesClassifier\n",
      "Accuracy score on test data 96.02625298329356\n",
      "Accuracy score on train data 100.0\n",
      "Confusion matrix \n",
      " [[7941  431]\n",
      " [ 235 8153]]\n",
      "Classification report                precision    recall  f1-score   support\n",
      "\n",
      "         0.0       0.97      0.95      0.96      8372\n",
      "         1.0       0.95      0.97      0.96      8388\n",
      "\n",
      "    accuracy                           0.96     16760\n",
      "   macro avg       0.96      0.96      0.96     16760\n",
      "weighted avg       0.96      0.96      0.96     16760\n",
      "\n"
     ]
    }
   ],
   "source": [
    "print('RandomForestClassifier')\n",
    "rf=RandomForestClassifier()\n",
    "rf.fit(x_train,y_train)\n",
    "predrf=rf.predict(x_test)\n",
    "predrf_train=rf.predict(x_train)\n",
    "print('Accuracy score on test data',accuracy_score(y_test,predrf)*100)\n",
    "print('Accuracy score on train data',accuracy_score(y_train,predrf_train)*100)\n",
    "print('Classification report ','\\n',classification_report(y_test,predrf))\n",
    "print('Confusion matrix ','\\n',confusion_matrix(y_test,predrf))\n",
    "print('\\n')\n",
    "\n",
    "print('ExtraTreesClassifier')\n",
    "et=ExtraTreesClassifier()\n",
    "et.fit(x_train,y_train)\n",
    "predet=et.predict(x_test)\n",
    "predet_train=et.predict(x_train)\n",
    "print('Accuracy score on test data',accuracy_score(y_test,predet)*100)\n",
    "print('Accuracy score on train data',accuracy_score(y_train,predet_train)*100)\n",
    "print('Confusion matrix','\\n',confusion_matrix(y_test,predet))\n",
    "print('Classification report ',classification_report(y_test,predet))"
   ]
  },
  {
   "cell_type": "markdown",
   "id": "9b472560",
   "metadata": {},
   "source": [
    "with RandomForestClassifier accurcy score is 95% and with ExtraTreeClassifier the accuracy score is 96%"
   ]
  },
  {
   "cell_type": "code",
   "execution_count": 45,
   "id": "88573a0f",
   "metadata": {},
   "outputs": [
    {
     "name": "stdout",
     "output_type": "stream",
     "text": [
      "GradientBoostingClassifier\n",
      "Accuracy score on test data 93.6217183770883\n",
      "Accuracy score on train data 93.93923895253683\n",
      "Classification report \n",
      "               precision    recall  f1-score   support\n",
      "\n",
      "         0.0       0.94      0.93      0.94      8372\n",
      "         1.0       0.93      0.94      0.94      8388\n",
      "\n",
      "    accuracy                           0.94     16760\n",
      "   macro avg       0.94      0.94      0.94     16760\n",
      "weighted avg       0.94      0.94      0.94     16760\n",
      "\n",
      "Confusion matrix \n",
      " [[7778  594]\n",
      " [ 475 7913]]\n",
      "\n",
      "\n",
      "AdaBoostClassifier\n",
      "Accuracy score on test data  91.99880668257757\n",
      "Accuracy score on train data  92.21307283142389\n",
      "Classification report \n",
      "               precision    recall  f1-score   support\n",
      "\n",
      "         0.0       0.91      0.93      0.92      8372\n",
      "         1.0       0.93      0.91      0.92      8388\n",
      "\n",
      "    accuracy                           0.92     16760\n",
      "   macro avg       0.92      0.92      0.92     16760\n",
      "weighted avg       0.92      0.92      0.92     16760\n",
      "\n",
      "Confusion matrix \n",
      " [[7773  599]\n",
      " [ 742 7646]]\n",
      "\n",
      "\n",
      "BaggingClassifier\n",
      "Accuracy score on test data 94.027446300716\n",
      "Accuracy score on train data 99.69568330605566\n",
      "Classification report \n",
      "               precision    recall  f1-score   support\n",
      "\n",
      "         0.0       0.94      0.94      0.94      8372\n",
      "         1.0       0.94      0.94      0.94      8388\n",
      "\n",
      "    accuracy                           0.94     16760\n",
      "   macro avg       0.94      0.94      0.94     16760\n",
      "weighted avg       0.94      0.94      0.94     16760\n",
      "\n",
      "Confusion matrix  \n",
      " [[7883  489]\n",
      " [ 512 7876]]\n",
      "\n",
      "\n",
      "DecisionTreeClassifier\n",
      "Accuracy score on test data  92.72673031026252\n",
      "Accuracy score on train data 100.0\n",
      "Confusion matrix \n",
      " [[7718  654]\n",
      " [ 565 7823]]\n",
      "Classification report \n",
      "               precision    recall  f1-score   support\n",
      "\n",
      "         0.0       0.93      0.92      0.93      8372\n",
      "         1.0       0.92      0.93      0.93      8388\n",
      "\n",
      "    accuracy                           0.93     16760\n",
      "   macro avg       0.93      0.93      0.93     16760\n",
      "weighted avg       0.93      0.93      0.93     16760\n",
      "\n"
     ]
    }
   ],
   "source": [
    "print('GradientBoostingClassifier')\n",
    "gb=GradientBoostingClassifier()\n",
    "gb.fit(x_train,y_train)\n",
    "predgb=gb.predict(x_test)\n",
    "predgb_train=gb.predict(x_train)\n",
    "print('Accuracy score on test data',accuracy_score(y_test,predgb)*100)\n",
    "print('Accuracy score on train data',accuracy_score(y_train,predgb_train)*100)\n",
    "print('Classification report','\\n',classification_report(y_test,predgb))\n",
    "print('Confusion matrix','\\n',confusion_matrix(y_test,predgb))\n",
    "print('\\n')\n",
    "\n",
    "print('AdaBoostClassifier')\n",
    "ad=AdaBoostClassifier()\n",
    "ad.fit(x_train,y_train)\n",
    "predad=ad.predict(x_test)\n",
    "predad_train=ad.predict(x_train)\n",
    "print('Accuracy score on test data ',accuracy_score(y_test,predad)*100)\n",
    "print('Accuracy score on train data ',accuracy_score(y_train,predad_train)*100)\n",
    "print('Classification report','\\n',classification_report(y_test,predad))\n",
    "print('Confusion matrix','\\n',confusion_matrix(y_test,predad))\n",
    "print('\\n')\n",
    "\n",
    "print('BaggingClassifier')\n",
    "bc=BaggingClassifier()\n",
    "bc.fit(x_train,y_train)\n",
    "predbc=bc.predict(x_test)\n",
    "predbc_train=bc.predict(x_train)\n",
    "print('Accuracy score on test data',accuracy_score(y_test,predbc)*100)\n",
    "print('Accuracy score on train data',accuracy_score(y_train,predbc_train)*100)\n",
    "print('Classification report','\\n',classification_report(y_test,predbc))\n",
    "print('Confusion matrix ','\\n',confusion_matrix(y_test,predbc))\n",
    "print('\\n')\n",
    "\n",
    "print('DecisionTreeClassifier')\n",
    "dtc=DecisionTreeClassifier()\n",
    "dtc.fit(x_train,y_train)\n",
    "preddtc=dtc.predict(x_test)\n",
    "preddtc_train=dtc.predict(x_train)\n",
    "print('Accuracy score on test data ',accuracy_score(y_test,preddtc)*100)\n",
    "print('Accuracy score on train data',accuracy_score(y_train,preddtc_train)*100)\n",
    "print('Confusion matrix','\\n',confusion_matrix(y_test,preddtc))\n",
    "print('Classification report','\\n',classification_report(y_test,preddtc))"
   ]
  },
  {
   "cell_type": "markdown",
   "id": "668f4e9c",
   "metadata": {},
   "source": [
    "with GradientBoostingClassifier the accuracy score is 93%\n",
    "\n",
    "with AdaBoostClassifier the accuracy score is 94%\n",
    "\n",
    "with BaggingClassifier the accuracy score is 94%\n",
    "\n",
    "and with DecisionTreeClassifier the accuracy score is 92%"
   ]
  },
  {
   "cell_type": "code",
   "execution_count": 46,
   "id": "6fc755af",
   "metadata": {},
   "outputs": [],
   "source": [
    "from sklearn.model_selection import cross_val_score"
   ]
  },
  {
   "cell_type": "markdown",
   "id": "8ab9a9bc",
   "metadata": {},
   "source": [
    "importing the Cross Validation technique to avoid the over fitting and under fitting "
   ]
  },
  {
   "cell_type": "code",
   "execution_count": 47,
   "id": "197da7d6",
   "metadata": {},
   "outputs": [
    {
     "name": "stdout",
     "output_type": "stream",
     "text": [
      "Support vector\n",
      "Score [0.8240401  0.82833617 0.82788866 0.82806766 0.81919083]\n",
      "Mean score  0.8255046843432243\n",
      "\n",
      "\n",
      "RandomForestClassifier\n",
      "Score [0.8057818  0.96509442 0.9634834  0.96768997 0.96661296]\n",
      "Mean score  0.9337325089583992\n",
      "\n",
      "\n",
      "ExtratreesClassifier\n",
      "Score [0.89653629 0.97234404 0.969838   0.97091202 0.97189402]\n",
      "Mean score  0.9563048759334245\n",
      "\n",
      "\n",
      "GradientBoostingClassifier\n",
      "Score  [0.75682449 0.95220621 0.95023718 0.9515797  0.95005371]\n",
      "Mean score  0.9121802569355714\n",
      "\n",
      "\n",
      "AdaBoostClassifier\n",
      "Score  [0.77669382 0.94415108 0.9452251  0.94817864 0.94083423]\n",
      "Mean score 0.9110165727061386\n",
      "\n",
      "\n",
      "BaggingClassifier\n",
      "Score [0.79199857 0.95927683 0.95856082 0.96276739 0.96195847]\n",
      "Mean score 0.9269124131113863\n",
      "\n",
      "\n",
      "DecisionTreeClassifier\n",
      "Score [0.78922402 0.94629911 0.94289806 0.94236105 0.94790548]\n",
      "Mean score 0.9137375441775347\n"
     ]
    }
   ],
   "source": [
    "print('Support vector')\n",
    "scoresvc=cross_val_score(svc,x,y)\n",
    "print('Score',scoresvc)\n",
    "print('Mean score ',scoresvc.mean())\n",
    "print('\\n')\n",
    "\n",
    "print('RandomForestClassifier')\n",
    "scorerf=cross_val_score(rf,x,y)\n",
    "print('Score',scorerf)\n",
    "print('Mean score ',scorerf.mean())\n",
    "print('\\n')\n",
    "\n",
    "print('ExtratreesClassifier')\n",
    "scoreet=cross_val_score(et,x,y)\n",
    "print('Score',scoreet)\n",
    "print('Mean score ',scoreet.mean())\n",
    "print('\\n')\n",
    "\n",
    "print('GradientBoostingClassifier')\n",
    "scoregb=cross_val_score(gb,x,y)\n",
    "print('Score ',scoregb)\n",
    "print('Mean score ',scoregb.mean())\n",
    "print('\\n')\n",
    "\n",
    "print('AdaBoostClassifier')\n",
    "scoreab=cross_val_score(ad,x,y)\n",
    "print('Score ',scoreab)\n",
    "print('Mean score',scoreab.mean())\n",
    "print('\\n')\n",
    "\n",
    "print('BaggingClassifier')\n",
    "scorebc=cross_val_score(bc,x,y)\n",
    "print('Score',scorebc)\n",
    "print('Mean score',scorebc.mean())\n",
    "print('\\n')\n",
    "\n",
    "print('DecisionTreeClassifier')\n",
    "scoredtc=cross_val_score(dtc,x,y)\n",
    "print('Score',scoredtc)\n",
    "print('Mean score',scoredtc.mean())"
   ]
  },
  {
   "cell_type": "markdown",
   "id": "7724eb21",
   "metadata": {},
   "source": [
    "After Cross validation best Performing model is ExtraTreesClassifier and the Accuracy score is 95%"
   ]
  },
  {
   "cell_type": "code",
   "execution_count": 48,
   "id": "838a9e0f",
   "metadata": {},
   "outputs": [],
   "source": [
    "from sklearn.model_selection import GridSearchCV"
   ]
  },
  {
   "cell_type": "markdown",
   "id": "4ca63efc",
   "metadata": {},
   "source": [
    "to find the best parameters for the model to perform well, importing the GridSearchCV"
   ]
  },
  {
   "cell_type": "code",
   "execution_count": 49,
   "id": "6df06696",
   "metadata": {},
   "outputs": [],
   "source": [
    "parameters={'criterion':['gini','entropy'],\n",
    "           'random_state':[10,20,100],\n",
    "           'max_depth':[0,10,20],\n",
    "           'n_jobs':[-2,-1,1],\n",
    "           'n_estimators':[50,100,150,200]}"
   ]
  },
  {
   "cell_type": "code",
   "execution_count": 50,
   "id": "cd89e2e2",
   "metadata": {},
   "outputs": [
    {
     "data": {
      "text/plain": [
       "{'criterion': 'gini',\n",
       " 'max_depth': 20,\n",
       " 'n_estimators': 100,\n",
       " 'n_jobs': -2,\n",
       " 'random_state': 20}"
      ]
     },
     "execution_count": 50,
     "metadata": {},
     "output_type": "execute_result"
    }
   ],
   "source": [
    "gscv=GridSearchCV(ExtraTreesClassifier(),parameters,cv=5)\n",
    "gscv.fit(x_train,y_train)\n",
    "gscv.best_params_"
   ]
  },
  {
   "cell_type": "markdown",
   "id": "8b4ea3bc",
   "metadata": {},
   "source": [
    "after the GridsearchCV, got the best parameters to build the best model"
   ]
  },
  {
   "cell_type": "code",
   "execution_count": 59,
   "id": "edc8fbac",
   "metadata": {},
   "outputs": [],
   "source": [
    "model=ExtraTreesClassifier(criterion='gini',max_depth=20,n_estimators=100,n_jobs=-2,random_state=20)"
   ]
  },
  {
   "cell_type": "markdown",
   "id": "a3627796",
   "metadata": {},
   "source": [
    "the final model is with best parameters "
   ]
  },
  {
   "cell_type": "code",
   "execution_count": 60,
   "id": "0ce3cc9e",
   "metadata": {},
   "outputs": [
    {
     "name": "stdout",
     "output_type": "stream",
     "text": [
      "Accuracy score is  94.85680190930788\n"
     ]
    }
   ],
   "source": [
    "model.fit(x_train,y_train)\n",
    "pred=model.predict(x_test)\n",
    "print('Accuracy score is ',accuracy_score(y_test,pred)*100)"
   ]
  },
  {
   "cell_type": "markdown",
   "id": "033d6868",
   "metadata": {},
   "source": [
    "checking for the accuracy score with model with best parameters"
   ]
  },
  {
   "cell_type": "code",
   "execution_count": 61,
   "id": "f17f03dd",
   "metadata": {},
   "outputs": [],
   "source": [
    "import pickle\n",
    "file='Banking_model'\n",
    "pickle.dump(model,open('Banking_model','wb'))"
   ]
  },
  {
   "cell_type": "markdown",
   "id": "7f8e4424",
   "metadata": {},
   "source": [
    "Saving the model with the help of pickle lybrary and using the dump method"
   ]
  },
  {
   "cell_type": "code",
   "execution_count": 62,
   "id": "751aa983",
   "metadata": {},
   "outputs": [
    {
     "data": {
      "text/plain": [
       "94.85680190930788"
      ]
     },
     "execution_count": 62,
     "metadata": {},
     "output_type": "execute_result"
    }
   ],
   "source": [
    "final_model=pickle.load(open('Banking_model','rb'))\n",
    "final_model.score(x_test,y_test)*100\n"
   ]
  },
  {
   "cell_type": "markdown",
   "id": "5115add2",
   "metadata": {},
   "source": [
    "loading the saved model from the jupyter notebook and \n",
    "\n",
    "The Best accuracy_score is 95%"
   ]
  },
  {
   "cell_type": "code",
   "execution_count": null,
   "id": "60302126",
   "metadata": {},
   "outputs": [],
   "source": []
  }
 ],
 "metadata": {
  "kernelspec": {
   "display_name": "Python 3 (ipykernel)",
   "language": "python",
   "name": "python3"
  },
  "language_info": {
   "codemirror_mode": {
    "name": "ipython",
    "version": 3
   },
   "file_extension": ".py",
   "mimetype": "text/x-python",
   "name": "python",
   "nbconvert_exporter": "python",
   "pygments_lexer": "ipython3",
   "version": "3.9.12"
  }
 },
 "nbformat": 4,
 "nbformat_minor": 5
}
